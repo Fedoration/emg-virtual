{
 "cells": [
  {
   "cell_type": "markdown",
   "id": "a62114b9-ebb6-49fa-b1eb-ae4c700bde45",
   "metadata": {},
   "source": [
    "## Do not change this notebooks \n",
    "We use it for preprocessing"
   ]
  },
  {
   "cell_type": "code",
   "execution_count": 3,
   "id": "82faea8f-ce77-4f54-8034-58a0bd23c32c",
   "metadata": {},
   "outputs": [],
   "source": [
    "import sys\n",
    "import os\n",
    "\n",
    "sys.path.insert(1, os.path.realpath(os.path.pardir))\n",
    "\n",
    "import numpy as np\n",
    "from pathlib import Path\n",
    "\n",
    "import torch\n",
    "\n",
    "from utils import data_utils\n",
    "from utils import losses, hand_visualize\n",
    "\n",
    "from utils.quats_and_angles import get_angles, get_quats\n",
    "from einops import rearrange\n",
    "from tqdm import tqdm\n",
    "from scipy import signal\n",
    "import matplotlib.pyplot as plt\n",
    "\n",
    "%matplotlib qt"
   ]
  },
  {
   "cell_type": "code",
   "execution_count": 3,
   "id": "71846484",
   "metadata": {},
   "outputs": [],
   "source": [
    "def butter_highpass(cutoff, nyq_freq, order=4):\n",
    "    normal_cutoff = float(cutoff) / nyq_freq\n",
    "    b, a = signal.butter(order, normal_cutoff, btype=\"highpass\")\n",
    "    return b, a\n",
    "\n",
    "\n",
    "def butter_highpass_filter(data, cutoff_freq, nyq_freq, order=4):\n",
    "    b, a = butter_highpass(cutoff_freq, nyq_freq, order=order)\n",
    "    y = signal.filtfilt(b, a, data)\n",
    "    return y"
   ]
  },
  {
   "cell_type": "code",
   "execution_count": 4,
   "id": "9aea8682-a206-433d-a7fd-a007c75dd581",
   "metadata": {},
   "outputs": [],
   "source": [
    "config = dict(\n",
    "    original_fps=200,  # TODO describtion\n",
    "    delay_ms=0,  # Shift vr vs EMG parameter. ms dealy between emg and VR.\n",
    "    start_crop_ms=0,  # bad values in the beginning of recordign in ms to delete.\n",
    "    window_size=256,\n",
    ")\n",
    "\n",
    "\n",
    "class AttrDict(dict):\n",
    "    def __init__(self, *args, **kwargs):\n",
    "        super(AttrDict, self).__init__(*args, **kwargs)\n",
    "        self.__dict__ = self\n",
    "\n",
    "\n",
    "config = AttrDict(config)\n",
    "\n",
    "\n",
    "def get_subdirs(rootdir):\n",
    "    paths = []\n",
    "    for path in Path(rootdir).iterdir():\n",
    "        if path.is_dir():\n",
    "            paths.append(path)\n",
    "    return paths"
   ]
  },
  {
   "cell_type": "markdown",
   "id": "b856af62",
   "metadata": {},
   "source": [
    "## Check one recording"
   ]
  },
  {
   "cell_type": "code",
   "execution_count": null,
   "id": "659c4644",
   "metadata": {},
   "outputs": [],
   "source": [
    "data = np.load(\n",
    "    f\"C:/Users/vlvdi/Desktop/EMG/EMG_TRAINING/Nastya/GeneralTraining/Middle1/1/1.0_data_test_662409.npz\"\n",
    ")"
   ]
  },
  {
   "cell_type": "code",
   "execution_count": null,
   "id": "ea88bd7a",
   "metadata": {},
   "outputs": [],
   "source": [
    "one_c = data[\"data_myo\"][:, 0]\n",
    "plt.plot(one_c[~np.isnan(one_c)])"
   ]
  },
  {
   "cell_type": "code",
   "execution_count": null,
   "id": "7d8dca54",
   "metadata": {},
   "outputs": [],
   "source": [
    "print(\"EMG shape:\", data[\"data_myo\"].shape)\n",
    "print(\"Time Stamps EMG shape:\", data[\"myo_ts\"].shape)\n",
    "print(\"VR shape:\", data[\"data_vr\"].shape)\n",
    "print(\"Time Stamps VR shape:\", data[\"vr_ts\"].shape)"
   ]
  },
  {
   "cell_type": "code",
   "execution_count": null,
   "id": "d7a82114",
   "metadata": {},
   "outputs": [],
   "source": [
    "# plt.plot(data['myo_ts'])\n",
    "plt.plot(data[\"vr_ts\"])"
   ]
  },
  {
   "cell_type": "code",
   "execution_count": null,
   "id": "55fdc38d",
   "metadata": {},
   "outputs": [],
   "source": [
    "quats = data[\"data_vr\"][:, :, 4:8]"
   ]
  },
  {
   "cell_type": "code",
   "execution_count": null,
   "id": "38443f35",
   "metadata": {},
   "outputs": [],
   "source": [
    "plt.plot(quats[:, 5, 0])"
   ]
  },
  {
   "cell_type": "code",
   "execution_count": null,
   "id": "5606980e",
   "metadata": {},
   "outputs": [],
   "source": [
    "emg = data[\"data_myo\"]"
   ]
  },
  {
   "cell_type": "code",
   "execution_count": null,
   "id": "af89f11e",
   "metadata": {},
   "outputs": [],
   "source": [
    "plt.plot(data[\"myo_ts\"])"
   ]
  },
  {
   "cell_type": "code",
   "execution_count": null,
   "id": "3c838869",
   "metadata": {},
   "outputs": [],
   "source": [
    "vr = data[\"data_vr\"][:, :, 4:8]"
   ]
  },
  {
   "cell_type": "code",
   "execution_count": null,
   "id": "74c9f39f",
   "metadata": {},
   "outputs": [],
   "source": [
    "one_channel = vr[:, 1, 3]\n",
    "plt.plot(one_channel[~np.isnan(one_channel)])"
   ]
  },
  {
   "cell_type": "markdown",
   "id": "daf99f46-627d-43d7-a4f5-d0f55e505355",
   "metadata": {},
   "source": [
    "# Get paths and preprocess raw datasets"
   ]
  },
  {
   "cell_type": "code",
   "execution_count": 5,
   "id": "a25b5bbf",
   "metadata": {},
   "outputs": [],
   "source": [
    "participant = \"Marusya\"\n",
    "ROOT_DIR = Path(\n",
    "    f\"C:/Users/vlvdi/Desktop/EMG/EMG_TRAINING/{participant}/GeneralTraining/\"\n",
    ")\n",
    "\n",
    "DATASET_NAMES = [\"Simple1\"]"
   ]
  },
  {
   "cell_type": "code",
   "execution_count": 6,
   "id": "66e8f401-b683-422b-8dde-4972b4c80f74",
   "metadata": {
    "scrolled": false,
    "tags": []
   },
   "outputs": [
    {
     "name": "stdout",
     "output_type": "stream",
     "text": [
      "ALL_PATHS:  [WindowsPath('C:/Users/vlvdi/Desktop/EMG/EMG_TRAINING/Marusya/GeneralTraining/Simple1/1'), WindowsPath('C:/Users/vlvdi/Desktop/EMG/EMG_TRAINING/Marusya/GeneralTraining/Simple1/2'), WindowsPath('C:/Users/vlvdi/Desktop/EMG/EMG_TRAINING/Marusya/GeneralTraining/Simple1/3'), WindowsPath('C:/Users/vlvdi/Desktop/EMG/EMG_TRAINING/Marusya/GeneralTraining/Simple1/4'), WindowsPath('C:/Users/vlvdi/Desktop/EMG/EMG_TRAINING/Marusya/GeneralTraining/Simple1/5'), WindowsPath('C:/Users/vlvdi/Desktop/EMG/EMG_TRAINING/Marusya/GeneralTraining/Simple1/preproc_angles')]\n",
      "Number of paths:  6\n",
      "Number of moves: 8 | Dataset: GeneralTraining\n"
     ]
    },
    {
     "name": "stderr",
     "output_type": "stream",
     "text": [
      "\r\n",
      "  0%|                                                                                            | 0/8 [00:00<?, ?it/s]"
     ]
    },
    {
     "name": "stdout",
     "output_type": "stream",
     "text": [
      "Slice myo_timestamps and all data from 0 to 44985\n"
     ]
    },
    {
     "name": "stderr",
     "output_type": "stream",
     "text": [
      "\r\n",
      " 12%|██████████▌                                                                         | 1/8 [00:06<00:42,  6.14s/it]"
     ]
    },
    {
     "name": "stdout",
     "output_type": "stream",
     "text": [
      "Slice myo_timestamps and all data from 0 to 44979\n"
     ]
    },
    {
     "name": "stderr",
     "output_type": "stream",
     "text": [
      "\r\n",
      " 25%|█████████████████████                                                               | 2/8 [00:12<00:37,  6.29s/it]"
     ]
    },
    {
     "name": "stdout",
     "output_type": "stream",
     "text": [
      "Slice myo_timestamps and all data from 0 to 44965\n"
     ]
    },
    {
     "name": "stderr",
     "output_type": "stream",
     "text": [
      "\r\n",
      " 38%|███████████████████████████████▌                                                    | 3/8 [00:19<00:32,  6.42s/it]"
     ]
    },
    {
     "name": "stdout",
     "output_type": "stream",
     "text": [
      "Slice myo_timestamps and all data from 0 to 44986\n"
     ]
    },
    {
     "name": "stderr",
     "output_type": "stream",
     "text": [
      "\r\n",
      " 50%|██████████████████████████████████████████                                          | 4/8 [00:24<00:24,  6.20s/it]"
     ]
    },
    {
     "name": "stdout",
     "output_type": "stream",
     "text": [
      "Slice myo_timestamps and all data from 0 to 44977\n"
     ]
    },
    {
     "name": "stderr",
     "output_type": "stream",
     "text": [
      "\r\n",
      " 62%|████████████████████████████████████████████████████▌                               | 5/8 [00:30<00:18,  6.05s/it]"
     ]
    },
    {
     "name": "stdout",
     "output_type": "stream",
     "text": [
      "Slice myo_timestamps and all data from 0 to 44986\n"
     ]
    },
    {
     "name": "stderr",
     "output_type": "stream",
     "text": [
      "\r\n",
      " 75%|███████████████████████████████████████████████████████████████                     | 6/8 [00:36<00:11,  5.99s/it]"
     ]
    },
    {
     "name": "stdout",
     "output_type": "stream",
     "text": [
      "Slice myo_timestamps and all data from 0 to 44978\n"
     ]
    },
    {
     "name": "stderr",
     "output_type": "stream",
     "text": [
      "\r\n",
      " 88%|█████████████████████████████████████████████████████████████████████████▌          | 7/8 [00:42<00:06,  6.02s/it]"
     ]
    },
    {
     "name": "stdout",
     "output_type": "stream",
     "text": [
      "Slice myo_timestamps and all data from 0 to 44972\n"
     ]
    },
    {
     "name": "stderr",
     "output_type": "stream",
     "text": [
      "100%|████████████████████████████████████████████████████████████████████████████████████| 8/8 [00:48<00:00,  6.07s/it]\n"
     ]
    },
    {
     "name": "stdout",
     "output_type": "stream",
     "text": [
      "Total len: 696\n"
     ]
    },
    {
     "name": "stderr",
     "output_type": "stream",
     "text": [
      "\r\n",
      "0it [00:00, ?it/s]"
     ]
    },
    {
     "name": "stdout",
     "output_type": "stream",
     "text": [
      "Shape: (22493, 16, 4)\n"
     ]
    },
    {
     "name": "stderr",
     "output_type": "stream",
     "text": [
      "\r\n",
      "1it [00:25, 25.38s/it]"
     ]
    },
    {
     "name": "stdout",
     "output_type": "stream",
     "text": [
      "Shape: (22490, 16, 4)\n"
     ]
    },
    {
     "name": "stderr",
     "output_type": "stream",
     "text": [
      "1it [00:27, 27.48s/it]\n",
      "\n",
      "KeyboardInterrupt\n",
      "\n"
     ]
    }
   ],
   "source": [
    "# get all paths to all folders inside above datasets\n",
    "dataset_paths = [ROOT_DIR / Path(n) for n in DATASET_NAMES]\n",
    "ALL_PATHS = []\n",
    "for dp in dataset_paths:\n",
    "    ALL_PATHS.extend(get_subdirs(dp))\n",
    "\n",
    "print(\"ALL_PATHS: \", ALL_PATHS)\n",
    "print(\"Number of paths: \", len(ALL_PATHS))\n",
    "\n",
    "\n",
    "# Preprocess all datasets for angles extraction.\n",
    "\n",
    "for path in ALL_PATHS:\n",
    "    dataset = data_utils.create_dataset(\n",
    "        data_folder=path,\n",
    "        original_fps=config.original_fps,\n",
    "        delay_ms=config.delay_ms,\n",
    "        start_crop_ms=config.start_crop_ms,\n",
    "        window_size=config.window_size,\n",
    "        random_sampling=False,\n",
    "        transform=None,\n",
    "    )\n",
    "    if len(dataset) == 0:\n",
    "        print(\"WWWWW: Problem with dataset\")\n",
    "        break\n",
    "    # go through each move and get angles and save.\n",
    "    for idx, move in tqdm(enumerate(dataset.exps_data)):\n",
    "        ts, myo, vr = move[\"myo_ts\"], move[\"data_myo\"], move[\"data_vr\"]\n",
    "        print(\"Shape:\", vr.shape)\n",
    "        angles = get_angles(vr)\n",
    "\n",
    "        new_path = path.parents[0] / Path(\"preproc_angles\") / Path(path.name)\n",
    "        new_path.mkdir(parents=True, exist_ok=True)\n",
    "\n",
    "        filename = f\"{idx:04d}.npz\"\n",
    "        filepath = new_path / filename\n",
    "\n",
    "        np.savez(filepath, data_myo=myo, data_vr=vr, data_angles=angles, myo_ts=ts)"
   ]
  },
  {
   "cell_type": "markdown",
   "id": "e632b9de-9aa3-4ace-9a63-ac3eec945175",
   "metadata": {},
   "source": [
    "# Check the quality. How to use new data.\n",
    "\n",
    "Here I visualize and check correctness of angle prediction. "
   ]
  },
  {
   "cell_type": "code",
   "execution_count": null,
   "id": "19bd66e4",
   "metadata": {},
   "outputs": [],
   "source": [
    "rootdir = Path(\n",
    "    f\"C:/Users/vlvdi/Desktop/EMG/EMG_TRAINING/{participant}/GeneralTraining/{DATASET_NAMES[0]}/preproc_angles\"\n",
    ")\n",
    "\n",
    "\n",
    "files = list(rootdir.glob(\"*/*\"))\n",
    "\n",
    "\n",
    "data = np.load(files[4])\n",
    "\n",
    "\n",
    "\n",
    "emg, quats, angles = data[\"data_myo\"], data[\"data_vr\"], data[\"data_angles\"]"
   ]
  },
  {
   "cell_type": "code",
   "execution_count": null,
   "id": "2b6056db",
   "metadata": {},
   "outputs": [],
   "source": [
    "print(\"Preprocessed EMG:\", emg.shape)\n",
    "print(\"Preprocessed Quaternions:\", quats.shape)\n",
    "print(\"Preprocessed Angles:\", angles.shape)"
   ]
  },
  {
   "cell_type": "code",
   "execution_count": null,
   "id": "9a100c8a",
   "metadata": {},
   "outputs": [],
   "source": [
    "plt.plot(angles[:, 6])"
   ]
  },
  {
   "cell_type": "code",
   "execution_count": null,
   "id": "fed1b1cc",
   "metadata": {},
   "outputs": [],
   "source": [
    "plt.plot((np.sum(angles, axis=1) - 1) * 0.1)\n",
    "plt.plot(np.abs(emg[:, 1]), alpha=0.6)\n",
    "plt.xlabel(\"Samples\", fontsize=12)\n",
    "plt.ylabel(\"Normalized Data\", fontsize=12)\n",
    "plt.legend([\"Sum of Angles\", \"Absolute EMG\"], fontsize=12)"
   ]
  },
  {
   "cell_type": "markdown",
   "id": "00b46eda",
   "metadata": {},
   "source": [
    "## Make gif of true kinematics"
   ]
  },
  {
   "cell_type": "code",
   "execution_count": null,
   "id": "a27121c0",
   "metadata": {},
   "outputs": [],
   "source": [
    "NEW_FPS = 25\n",
    "DRAW_EVERY = 250 // 25\n",
    "\n",
    "visualize_and_save_anim_gifs(\n",
    "    data=quats[:2000:DRAW_EVERY],\n",
    "    path=Path(\"C:/Users/vlvdi/Desktop/EMG/original_quats.gif\"),\n",
    "    fps=NEW_FPS,\n",
    ")"
   ]
  },
  {
   "cell_type": "markdown",
   "id": "0a7a0eae",
   "metadata": {},
   "source": [
    "## Quats to Angle transform check"
   ]
  },
  {
   "cell_type": "code",
   "execution_count": null,
   "id": "2aef72c5",
   "metadata": {},
   "outputs": [],
   "source": [
    "from utils.hand_visualize import (\n",
    "    Hand,\n",
    "    save_animation_mp4,\n",
    "    visualize_and_save_anim,\n",
    "    merge_two_videos,\n",
    "    visualize_and_save_anim_gifs,\n",
    ")\n",
    "\n",
    "\n",
    "def get_angle_degree(y_hat, y_batch):\n",
    "    \"\"\"\n",
    "    [batch, n_bones, 4, time]\n",
    "    \"\"\"\n",
    "    (\n",
    "        time,\n",
    "        n_bones,\n",
    "        n_quat,\n",
    "    ) = y_hat.shape\n",
    "\n",
    "    y_hat, y_batch = y_hat.reshape(-1, 4), y_batch.reshape(-1, 4)\n",
    "\n",
    "    mult = torch.sum(y_hat * y_batch, dim=-1) ** 2\n",
    "\n",
    "    angle_degree = torch.mean(\n",
    "        torch.arccos(torch.clip((2 * mult - 1), -1, 1)) / torch.pi * 180\n",
    "    )\n",
    "\n",
    "\n",
    "    return angle_degree.item()"
   ]
  },
  {
   "cell_type": "code",
   "execution_count": null,
   "id": "f6b5b393-f26c-4e9d-9454-920cd5f909c9",
   "metadata": {},
   "outputs": [],
   "source": [
    "files = list(rootdir.glob(\"*/*\"))\n",
    "data = np.load(files[0])\n",
    "\n",
    "emg, quats, angles = data[\"data_myo\"], data[\"data_vr\"], data[\"data_angles\"]\n",
    "quats_hat = get_quats(angles)\n",
    "angle_diff = get_angle_degree(torch.from_numpy(quats_hat), torch.from_numpy(quats))\n",
    "\n",
    "print(\"Shapes\", emg.shape, quats.shape, angles.shape, quats_hat.shape)\n",
    "print(\"Angle degree\", angle_diff)"
   ]
  },
  {
   "cell_type": "code",
   "execution_count": null,
   "id": "ca8636b5-9c08-43dc-bcc6-304752c1d009",
   "metadata": {},
   "outputs": [],
   "source": [
    "NEW_FPS = 25\n",
    "DRAW_EVERY = 250 // 25\n",
    "\n",
    "visualize_and_save_anim_gifs(\n",
    "    data=quats[:2000:DRAW_EVERY],\n",
    "    path=Path(\"C:/Users/vlvdi/Desktop/EMG/original_quats.gif\"),\n",
    "    fps=NEW_FPS,\n",
    ")"
   ]
  },
  {
   "cell_type": "code",
   "execution_count": null,
   "id": "303f7e69",
   "metadata": {},
   "outputs": [],
   "source": [
    "visualize_and_save_anim_gifs(\n",
    "    data=quats_hat[:2000:DRAW_EVERY],\n",
    "    path=Path(\"C:/Users/vlvdi/Desktop/EMG/11_15_2023/from_angles_quats.gif\"),\n",
    "    fps=NEW_FPS,\n",
    ")"
   ]
  },
  {
   "cell_type": "code",
   "execution_count": null,
   "id": "761e0913",
   "metadata": {},
   "outputs": [],
   "source": []
  }
 ],
 "metadata": {
  "kernelspec": {
   "display_name": "pcb",
   "language": "python",
   "name": "python3"
  },
  "language_info": {
   "codemirror_mode": {
    "name": "ipython",
    "version": 3
   },
   "file_extension": ".py",
   "mimetype": "text/x-python",
   "name": "python",
   "nbconvert_exporter": "python",
   "pygments_lexer": "ipython3",
   "version": "3.9.16"
  }
 },
 "nbformat": 4,
 "nbformat_minor": 5
}
