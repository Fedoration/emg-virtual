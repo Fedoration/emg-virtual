{
 "cells": [
  {
   "cell_type": "markdown",
   "id": "a62114b9-ebb6-49fa-b1eb-ae4c700bde45",
   "metadata": {},
   "source": [
    "## Do not change this notebooks \n",
    "We use it for preprocessing"
   ]
  },
  {
   "cell_type": "code",
   "execution_count": null,
   "id": "82faea8f-ce77-4f54-8034-58a0bd23c32c",
   "metadata": {},
   "outputs": [],
   "source": [
    "import sys\n",
    "import os \n",
    "sys.path.insert(1, os.path.realpath(os.path.pardir))\n",
    "\n",
    "import numpy as np\n",
    "from pathlib import Path\n",
    "from natsort import natsorted\n",
    "\n",
    "#import wandb\n",
    "import torch\n",
    "# import torch.nn as nn\n",
    "# import torch.nn.functional as F\n",
    "\n",
    "# import pytorch_lightning as pl\n",
    "# from pytorch_lightning.loggers import WandbLogger\n",
    "# from pytorch_lightning.callbacks import Callback, ModelCheckpoint\n",
    "# from pytorch_model_summary import summary\n",
    "\n",
    "from utils import data_utils\n",
    "from utils import losses, hand_visualize\n",
    "\n",
    "from utils.quats_and_angles import get_angles, get_quats\n",
    "from einops import rearrange\n",
    "from tqdm import tqdm\n",
    "from scipy import signal\n",
    "import matplotlib.pyplot as plt"
   ]
  },
  {
   "cell_type": "code",
   "execution_count": 2,
   "id": "2e20cddc",
   "metadata": {},
   "outputs": [],
   "source": [
    "%matplotlib qt"
   ]
  },
  {
   "cell_type": "code",
   "execution_count": 3,
   "id": "71846484",
   "metadata": {},
   "outputs": [],
   "source": [
    "def butter_highpass(cutoff, nyq_freq, order=4):\n",
    "    normal_cutoff = float(cutoff) / nyq_freq\n",
    "    b, a = signal.butter(order, normal_cutoff, btype='highpass')\n",
    "    return b, a\n",
    "\n",
    "def butter_highpass_filter(data, cutoff_freq, nyq_freq, order=4):\n",
    "    b, a = butter_highpass(cutoff_freq, nyq_freq, order=order)\n",
    "    y = signal.filtfilt(b, a, data)\n",
    "    return y"
   ]
  },
  {
   "cell_type": "code",
   "execution_count": 2,
   "id": "9aea8682-a206-433d-a7fd-a007c75dd581",
   "metadata": {},
   "outputs": [],
   "source": [
    "config = dict(  \n",
    "    original_fps = 200,  # TODO describtion\n",
    "    delay_ms = 0,  # Shift vr vs EMG parameter. ms dealy between emg and VR.\n",
    "    start_crop_ms = 0,  # bad values in the beginning of recordign in ms to delete.\n",
    "    window_size = 256,\n",
    ")\n",
    "\n",
    "\n",
    "class AttrDict(dict):\n",
    "    def __init__(self, *args, **kwargs):\n",
    "        super(AttrDict, self).__init__(*args, **kwargs)\n",
    "        self.__dict__ = self\n",
    "config = AttrDict(config)\n",
    "\n",
    "    \n",
    "def get_subdirs(rootdir):\n",
    "    paths = []\n",
    "    for path in Path(rootdir).iterdir():\n",
    "        if path.is_dir():\n",
    "            paths.append(path)\n",
    "    return paths"
   ]
  },
  {
   "cell_type": "markdown",
   "id": "daf99f46-627d-43d7-a4f5-d0f55e505355",
   "metadata": {},
   "source": [
    "# Get paths and preprocess raw datasets"
   ]
  },
  {
   "cell_type": "code",
   "execution_count": 3,
   "id": "a25b5bbf",
   "metadata": {},
   "outputs": [],
   "source": [
    "ROOT_DIR = Path(\"D:\\\\Myo_Project\\\\MIO_trindets\\\\Subj17\\\\\")\n",
    "\n",
    "DATASET_NAMES = ['Raw']"
   ]
  },
  {
   "cell_type": "code",
   "execution_count": 4,
   "id": "7890ad64-47ca-469b-a21f-71f40a19a316",
   "metadata": {},
   "outputs": [
    {
     "data": {
      "text/plain": [
       "'aaa= [1,2,3,4]\\nprint(aaa[:3])\\n\\nprint(ALL_PATHS)\\n\\nprint(path)'"
      ]
     },
     "execution_count": 4,
     "metadata": {},
     "output_type": "execute_result"
    }
   ],
   "source": [
    "'''aaa= [1,2,3,4]\n",
    "print(aaa[:3])\n",
    "\n",
    "print(ALL_PATHS)\n",
    "\n",
    "print(path)'''"
   ]
  },
  {
   "cell_type": "code",
   "execution_count": null,
   "id": "66e8f401-b683-422b-8dde-4972b4c80f74",
   "metadata": {
    "tags": []
   },
   "outputs": [
    {
     "name": "stdout",
     "output_type": "stream",
     "text": [
      "[WindowsPath('D:/Myo_Project/MIO_trindets/Subj17/Raw')]\n",
      "ALL_PATHS:  [WindowsPath('D:/Myo_Project/MIO_trindets/Subj17/Raw/1')]\n",
      "Number of paths:  1\n",
      "Number of moves: 8 | Dataset: Subj17\n"
     ]
    },
    {
     "name": "stderr",
     "output_type": "stream",
     "text": [
      "  0%|                                                                                            | 0/8 [00:00<?, ?it/s]"
     ]
    },
    {
     "name": "stdout",
     "output_type": "stream",
     "text": [
      "Slice myo_timestamps and all data from 0 to 14454\n"
     ]
    },
    {
     "name": "stderr",
     "output_type": "stream",
     "text": [
      " 12%|██████████▌                                                                         | 1/8 [00:03<00:23,  3.42s/it]"
     ]
    },
    {
     "name": "stdout",
     "output_type": "stream",
     "text": [
      "Slice myo_timestamps and all data from 0 to 14455\n"
     ]
    },
    {
     "name": "stderr",
     "output_type": "stream",
     "text": [
      " 25%|█████████████████████                                                               | 2/8 [00:06<00:19,  3.23s/it]"
     ]
    },
    {
     "name": "stdout",
     "output_type": "stream",
     "text": [
      "Slice myo_timestamps and all data from 0 to 14459\n"
     ]
    },
    {
     "name": "stderr",
     "output_type": "stream",
     "text": [
      " 38%|███████████████████████████████▌                                                    | 3/8 [00:09<00:15,  3.16s/it]"
     ]
    },
    {
     "name": "stdout",
     "output_type": "stream",
     "text": [
      "Slice myo_timestamps and all data from 0 to 14465\n"
     ]
    },
    {
     "name": "stderr",
     "output_type": "stream",
     "text": [
      " 50%|██████████████████████████████████████████                                          | 4/8 [00:12<00:12,  3.15s/it]"
     ]
    },
    {
     "name": "stdout",
     "output_type": "stream",
     "text": [
      "Slice myo_timestamps and all data from 0 to 14551\n"
     ]
    },
    {
     "name": "stderr",
     "output_type": "stream",
     "text": [
      " 62%|████████████████████████████████████████████████████▌                               | 5/8 [00:15<00:09,  3.13s/it]"
     ]
    },
    {
     "name": "stdout",
     "output_type": "stream",
     "text": [
      "Slice myo_timestamps and all data from 0 to 14499\n"
     ]
    },
    {
     "name": "stderr",
     "output_type": "stream",
     "text": [
      " 75%|███████████████████████████████████████████████████████████████                     | 6/8 [00:18<00:06,  3.14s/it]"
     ]
    },
    {
     "name": "stdout",
     "output_type": "stream",
     "text": [
      "Slice myo_timestamps and all data from 0 to 14473\n"
     ]
    },
    {
     "name": "stderr",
     "output_type": "stream",
     "text": [
      " 88%|█████████████████████████████████████████████████████████████████████████▌          | 7/8 [00:22<00:03,  3.13s/it]"
     ]
    },
    {
     "name": "stdout",
     "output_type": "stream",
     "text": [
      "Slice myo_timestamps and all data from 0 to 14459\n"
     ]
    },
    {
     "name": "stderr",
     "output_type": "stream",
     "text": [
      "100%|████████████████████████████████████████████████████████████████████████████████████| 8/8 [00:25<00:00,  3.15s/it]\n"
     ]
    },
    {
     "name": "stdout",
     "output_type": "stream",
     "text": [
      "Total len: 448\n"
     ]
    },
    {
     "name": "stderr",
     "output_type": "stream",
     "text": [
      "8it [00:00, 402.35it/s]\n"
     ]
    },
    {
     "name": "stdout",
     "output_type": "stream",
     "text": [
      "[[1.62301220e-04 2.20848369e-04 5.83913470e-05 1.92107188e-04\n",
      "  9.47738925e-05 6.62664909e-05 0.00000000e+00 0.00000000e+00]]\n",
      "[[1.73728193e-04 2.29962913e-04 4.79786292e-05 1.75272082e-04\n",
      "  1.09155634e-04 4.82419294e-05 0.00000000e+00 0.00000000e+00]]\n",
      "[[1.06989355e-04 1.42752047e-04 6.15879231e-05 8.33903478e-05\n",
      "  1.22122290e-04 3.28982901e-05 0.00000000e+00 0.00000000e+00]]\n",
      "[[3.13996337e-04 2.41188662e-04 1.18007489e-04 2.39755317e-04\n",
      "  3.41600863e-04 8.91925402e-05 0.00000000e+00 0.00000000e+00]]\n",
      "[[2.23319099e-05 7.65822405e-05 2.21113007e-05 5.47354383e-05\n",
      "  2.18146146e-05 2.79627457e-05 0.00000000e+00 0.00000000e+00]]\n",
      "[[1.63967373e-04 1.99753112e-04 6.28982404e-05 1.64563452e-04\n",
      "  1.04386716e-04 6.00055142e-05 0.00000000e+00 0.00000000e+00]]\n",
      "[[6.90823197e-05 1.19120184e-04 5.56012699e-05 6.26676582e-05\n",
      "  7.42049511e-05 3.83179619e-05 0.00000000e+00 0.00000000e+00]]\n",
      "[[1.54631170e-05 3.68411671e-05 1.68666321e-05 5.46903241e-05\n",
      "  1.71748899e-05 1.05991504e-05 0.00000000e+00 0.00000000e+00]]\n"
     ]
    },
    {
     "name": "stderr",
     "output_type": "stream",
     "text": [
      "8it [01:56, 14.54s/it]\n"
     ]
    }
   ],
   "source": [
    "# get all paths to all folders inside above datasets \n",
    "Nch_target = 6\n",
    "\n",
    "dataset_paths = [ROOT_DIR / Path(n) for n in DATASET_NAMES]\n",
    "print(dataset_paths)\n",
    "ALL_PATHS = []\n",
    "for dp in dataset_paths:\n",
    "    ALL_PATHS.extend(get_subdirs(dp))\n",
    "\n",
    "print('ALL_PATHS: ', ALL_PATHS)\n",
    "print('Number of paths: ', len(ALL_PATHS))\n",
    "\n",
    "\n",
    "# Preprocess all datasets for angles extraction.\n",
    "\n",
    "for path in ALL_PATHS:\n",
    "    sorted_pth = sorted(path.glob('*.npz'))   \n",
    "    sorted_pth= natsorted(sorted_pth)\n",
    "    \n",
    "    \n",
    "    #if use_preproc_data == True:\n",
    "    #    exps_data = [dict(np.load(d)) for d in all_paths]\n",
    "        \n",
    "\n",
    "    dataset = data_utils.create_dataset(data_folder=path,\n",
    "                                              original_fps=config.original_fps,\n",
    "                                              delay_ms=config.delay_ms,\n",
    "                                              start_crop_ms=config.start_crop_ms,\n",
    "                                              window_size=config.window_size,\n",
    "                                              random_sampling=False,\n",
    "                                              transform=None)\n",
    "    \n",
    "    \n",
    "    if len(dataset)==0: \n",
    "        print('WWWWW: Problem with dataset')\n",
    "        break\\\n",
    "\n",
    "\n",
    "    my_myo_list = list()\n",
    "    \n",
    "\n",
    "    # go through each move and get angles and save.\n",
    "    for idx, move in tqdm(enumerate(dataset.exps_data)):\n",
    "\n",
    "        my_myo =  np.load(sorted_pth[idx])['data_myo']\n",
    "        my_myo = my_myo[: len(move['data_myo'])]\n",
    "\n",
    "        my_myo_list.append(my_myo)\n",
    "\n",
    "        std_coef = np.std(my_myo,axis = 0,keepdims = True)\n",
    "        print(std_coef)\n",
    "\n",
    "\n",
    "    my_myo_list = np.concatenate(my_myo_list) \n",
    "    std_coef = np.std(my_myo_list,axis = 0,keepdims = True)    \n",
    "\n",
    "\n",
    "    #std_coef_1 = my_myo_list[:len(my_myo_list)//2]\n",
    "    #std_coef_2 = my_myo_list[len(my_myo_list)//2:]\n",
    "\n",
    "    #print(std_coef_1,std_coef_2)\n",
    "    \n",
    "    \n",
    "    \n",
    "    # go through each move and get angles and save.\n",
    "    for idx, move in tqdm(enumerate(dataset.exps_data)):\n",
    "\n",
    "        my_myo =  np.load(sorted_pth[idx])['data_myo']\n",
    "\n",
    "        \n",
    "        my_myo_norm = my_myo[:,:Nch_target]/std_coef[:,:Nch_target]\n",
    "\n",
    "        my_myo_norm = my_myo_norm[: len(move['data_myo'])]\n",
    "        \n",
    "        \n",
    "        ts, myo, vr = move['myo_ts'], my_myo_norm, move['data_vr']\n",
    "        angles = get_angles(vr)\n",
    "        \n",
    "        new_path = path.parents[0] / Path('preproc_angles') / Path(path.name)\n",
    "        new_path.mkdir(parents=True, exist_ok=True)\n",
    "        \n",
    "        filename = f\"{idx:04d}.npz\"\n",
    "        filepath = new_path / filename\n",
    "        \n",
    "        np.savez(filepath, data_myo=myo,\n",
    "                 data_vr=vr, data_angles=angles, myo_ts=ts, std_coef = std_coef)\n",
    "\n",
    "\n",
    "    "
   ]
  },
  {
   "cell_type": "code",
   "execution_count": null,
   "id": "04cf1aba-c4c0-4f6f-a24b-7dac6c1cba4e",
   "metadata": {},
   "outputs": [],
   "source": []
  },
  {
   "cell_type": "markdown",
   "id": "e632b9de-9aa3-4ace-9a63-ac3eec945175",
   "metadata": {},
   "source": [
    "# Check the quality. How to use new data.\n",
    "\n",
    "Here I visualize and check correctness of angle prediction. "
   ]
  },
  {
   "cell_type": "code",
   "execution_count": 13,
   "id": "7f10b107",
   "metadata": {},
   "outputs": [],
   "source": [
    "name = 'test'\n",
    "subj = 'Vlad'"
   ]
  },
  {
   "cell_type": "code",
   "execution_count": 42,
   "id": "19bd66e4",
   "metadata": {},
   "outputs": [],
   "source": [
    "rootdir = Path(f'C:/Users/vlvdi/Desktop/EMG/MYO_DATA/{subj}/GeneralTraining/{name}/preproc_angles')\n",
    "#rootdir = Path(f'C:/Users/vlvdi/Desktop/EMG/Nastya/10_electrodes_28022024/preproc_angles')\n",
    "files = list(rootdir.glob('*/*'))\n",
    "data = np.load(files[5])\n",
    "\n",
    "emg, quats, angles = data['data_myo'], data['data_vr'], data['data_angles']"
   ]
  },
  {
   "cell_type": "code",
   "execution_count": 43,
   "id": "fed1b1cc",
   "metadata": {},
   "outputs": [
    {
     "data": {
      "text/plain": [
       "[<matplotlib.lines.Line2D at 0x20cc66a0880>]"
      ]
     },
     "execution_count": 43,
     "metadata": {},
     "output_type": "execute_result"
    }
   ],
   "source": [
    "plt.plot((np.sum(angles, axis=1) - 1) * 0.2)\n",
    "plt.plot(emg[:, 2], alpha=0.6)"
   ]
  },
  {
   "cell_type": "code",
   "execution_count": null,
   "id": "34d8f108",
   "metadata": {},
   "outputs": [],
   "source": [
    "signal = emg[:, 4]"
   ]
  },
  {
   "cell_type": "code",
   "execution_count": null,
   "id": "6adcb9c4",
   "metadata": {},
   "outputs": [],
   "source": [
    "files[3]"
   ]
  },
  {
   "cell_type": "code",
   "execution_count": null,
   "id": "3dc8dc00",
   "metadata": {},
   "outputs": [],
   "source": [
    "rootd = Path(f'C:/Users/vlvdi/Desktop/EMG/Nastya/10_electrodes_28022024/preproc_angles/1/0001.npz')"
   ]
  },
  {
   "cell_type": "code",
   "execution_count": null,
   "id": "e49542d4",
   "metadata": {},
   "outputs": [],
   "source": [
    "dd = np.load(rootd)\n",
    "emg, ang = dd['data_myo'], dd['data_vr']"
   ]
  },
  {
   "cell_type": "code",
   "execution_count": null,
   "id": "697683fc",
   "metadata": {},
   "outputs": [],
   "source": [
    "plt.plot(emg[:, 7], alpha=0.8)"
   ]
  },
  {
   "cell_type": "code",
   "execution_count": null,
   "id": "768eef91",
   "metadata": {},
   "outputs": [],
   "source": [
    "sig = emg[:, 7]"
   ]
  },
  {
   "cell_type": "code",
   "execution_count": null,
   "id": "d27ad784",
   "metadata": {},
   "outputs": [],
   "source": [
    "sig = sig[~np.isnan(sig)]"
   ]
  },
  {
   "cell_type": "code",
   "execution_count": null,
   "id": "4aa70f54",
   "metadata": {},
   "outputs": [],
   "source": [
    "samp_freq = 500  # Sample frequency (Hz)\n",
    "notch_freq = 50.0  # Frequency to be removed from signal (Hz)\n",
    "quality_factor = 30.0  # Quality factor"
   ]
  },
  {
   "cell_type": "code",
   "execution_count": null,
   "id": "60c67e7a",
   "metadata": {},
   "outputs": [],
   "source": [
    "b_notch, a_notch = signal.iirnotch(notch_freq, quality_factor, samp_freq)\n",
    "freq, h = signal.freqz(b_notch, a_notch, fs = samp_freq)"
   ]
  },
  {
   "cell_type": "code",
   "execution_count": null,
   "id": "ff036add",
   "metadata": {},
   "outputs": [],
   "source": [
    "y_notched = signal.filtfilt(b_notch, a_notch, sig)"
   ]
  },
  {
   "cell_type": "code",
   "execution_count": null,
   "id": "5b6cb472",
   "metadata": {},
   "outputs": [],
   "source": [
    "plt.plot(y_notched)"
   ]
  },
  {
   "cell_type": "code",
   "execution_count": null,
   "id": "21601816-1fd4-4a80-952b-8be655cfa528",
   "metadata": {},
   "outputs": [],
   "source": [
    "from utils.hand_visualize import Hand, save_animation_mp4, visualize_and_save_anim, merge_two_videos, visualize_and_save_anim_gifs\n",
    "\n",
    "def get_angle_degree(y_hat, y_batch):\n",
    "    \"\"\"\n",
    "    [batch, n_bones, 4, time]\n",
    "    \"\"\"\n",
    "    time, n_bones, n_quat,  = y_hat.shape\n",
    "    y_hat, y_batch = y_hat.reshape(-1, 4), y_batch.reshape(-1, 4)\n",
    "\n",
    "    mult = torch.sum(y_hat*y_batch, dim=-1)**2\n",
    "    angle_degree = torch.mean(torch.arccos(torch.clip((2*mult -1), -1, 1))/torch.pi*180)\n",
    "    return angle_degree.item()"
   ]
  },
  {
   "cell_type": "code",
   "execution_count": null,
   "id": "f6b5b393-f26c-4e9d-9454-920cd5f909c9",
   "metadata": {},
   "outputs": [],
   "source": [
    "rootdir = Path('C:/Users/vlvdi/Desktop/EMG/oleg500/preproc_angles')\n",
    "files = list(rootdir.glob('*/*'))\n",
    "data = np.load(files[0])\n",
    "\n",
    "emg, quats, angles = data['data_myo'], data['data_vr'], data['data_angles']\n",
    "quats_hat = get_quats(angles)\n",
    "angle_diff = get_angle_degree(torch.from_numpy(quats_hat), torch.from_numpy(quats))\n",
    "\n",
    "print('Shapes', emg.shape, quats.shape, angles.shape, quats_hat.shape)\n",
    "print('Angle degree', angle_diff)"
   ]
  },
  {
   "cell_type": "code",
   "execution_count": null,
   "id": "120ec6c4",
   "metadata": {},
   "outputs": [],
   "source": [
    "(0.0002 + 128) / 255"
   ]
  },
  {
   "cell_type": "code",
   "execution_count": null,
   "id": "7bbebe95",
   "metadata": {},
   "outputs": [],
   "source": [
    "0.501961568627451 * 255 - 128"
   ]
  },
  {
   "cell_type": "code",
   "execution_count": null,
   "id": "8f2204eb",
   "metadata": {},
   "outputs": [],
   "source": [
    "import scipy.signal as signal"
   ]
  },
  {
   "cell_type": "code",
   "execution_count": null,
   "id": "9903ecee",
   "metadata": {},
   "outputs": [],
   "source": [
    "emg_filt = butter_highpass_filter(emg[:, 2], 5, 125, order=5)"
   ]
  },
  {
   "cell_type": "code",
   "execution_count": null,
   "id": "a292821f",
   "metadata": {},
   "outputs": [],
   "source": [
    "plt.plot(emg_filt[:])"
   ]
  },
  {
   "cell_type": "code",
   "execution_count": null,
   "id": "ae84a168",
   "metadata": {},
   "outputs": [],
   "source": [
    "plt.plot(angles[:10_000, :])\n",
    "plt.plot((emg_filt[:10_000]) * 200000, alpha=0.8)"
   ]
  },
  {
   "cell_type": "code",
   "execution_count": null,
   "id": "78d6e82e",
   "metadata": {},
   "outputs": [],
   "source": [
    "quats.shape"
   ]
  },
  {
   "cell_type": "code",
   "execution_count": null,
   "id": "ca8636b5-9c08-43dc-bcc6-304752c1d009",
   "metadata": {},
   "outputs": [],
   "source": [
    "NEW_FPS = 25\n",
    "DRAW_EVERY = 250//25\n",
    "\n",
    "visualize_and_save_anim_gifs(data=quats[:2000:DRAW_EVERY],\n",
    "                        path=Path('C:/Users/vlvdi/Desktop/EMG/11_15_2023/original_quats.gif'), \n",
    "                        fps=NEW_FPS)"
   ]
  },
  {
   "cell_type": "code",
   "execution_count": null,
   "id": "303f7e69",
   "metadata": {},
   "outputs": [],
   "source": [
    "visualize_and_save_anim_gifs(data=quats_hat[:2000:DRAW_EVERY],\n",
    "                        path=Path('C:/Users/vlvdi/Desktop/EMG/11_15_2023/from_angles_quats.gif'), \n",
    "                        fps=NEW_FPS)"
   ]
  },
  {
   "cell_type": "code",
   "execution_count": null,
   "id": "761e0913",
   "metadata": {},
   "outputs": [],
   "source": []
  }
 ],
 "metadata": {
  "kernelspec": {
   "display_name": "Python 3 (ipykernel)",
   "language": "python",
   "name": "python3"
  },
  "language_info": {
   "codemirror_mode": {
    "name": "ipython",
    "version": 3
   },
   "file_extension": ".py",
   "mimetype": "text/x-python",
   "name": "python",
   "nbconvert_exporter": "python",
   "pygments_lexer": "ipython3",
   "version": "3.12.7"
  },
  "vscode": {
   "interpreter": {
    "hash": "aad7db464671b5e5b77d58a6a380ca86669611da3a5bee560eec96f0018db429"
   }
  }
 },
 "nbformat": 4,
 "nbformat_minor": 5
}
