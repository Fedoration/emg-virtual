{
 "cells": [
  {
   "cell_type": "code",
   "execution_count": 220,
   "id": "1981c6b1",
   "metadata": {},
   "outputs": [],
   "source": [
    "import sys\n",
    "sys.path.insert(0,'C:/Users/vlvdi/Desktop/EMG/alvi')\n",
    "\n",
    "import os\n",
    "from pathlib import Path\n",
    "from functools import partial\n",
    "import configparser\n",
    "\n",
    "from typing import TypeVar\n",
    "import time\n",
    "# Extern libs (pip install)\n",
    "import pylsl\n",
    "import torch\n",
    "import numpy as np\n",
    "from einops import rearrange\n",
    "from pylsl import StreamInfo, StreamOutlet\n",
    "import pytorch_lightning as pl\n",
    "\n",
    "# local modules\n",
    "from utils.quats_and_angles import get_quats, get_angles\n",
    "from utils.hand_visualize import Hand, save_animation_mp4, visualize_and_save_anim, merge_two_videos, visualize_and_save_anim_gifs #, merge_two_videos_vertically\n",
    "\n",
    "from models import HVATNet_v2, HVATNet_v3, HVATNet_v3_FineTune, HVATNet_v3_FineTune_N"
   ]
  },
  {
   "cell_type": "code",
   "execution_count": 95,
   "id": "667aec6c",
   "metadata": {},
   "outputs": [
    {
     "name": "stdout",
     "output_type": "stream",
     "text": [
      "cpu\n"
     ]
    }
   ],
   "source": [
    "# parsing init params\n",
    "config = configparser.ConfigParser()\n",
    "conf_path = 'C:/Users/vlvdi/Desktop/EMG/alvi/conf.ini'\n",
    "config.read(conf_path)\n",
    "PATH_TO_SALUT_ML_DIR = Path(config['global']['salut_ml_dir'])\n",
    "sys.path.insert(1, str(PATH_TO_SALUT_ML_DIR))\n",
    "\n",
    "CKPT_PATH = (PATH_TO_SALUT_ML_DIR \n",
    "             / Path(config['inference']['init_weights_path']))\n",
    "REALTIME_WEIGHTS_FOLDER = (Path(config['realtime_training']['work_path']) \n",
    "                        / Path(config['realtime_training']['weights_folder']))   \n",
    "DEVICE = config['inference']['device']\n",
    "# DEVICE = 'cuda'\n",
    "REORDER_ELECTORDES = config['realtime_training']['reorder_electrodes']\n",
    "MODEL_TYPE = config['global']['model_type']\n",
    "\n",
    "exec_time_list = []\n",
    "\n",
    "PathLike = TypeVar(\"PathLike\", str, Path)\n",
    "DEVICE = 'cuda' if torch.cuda.is_available() else 'cpu'\n",
    "print(DEVICE)"
   ]
  },
  {
   "cell_type": "code",
   "execution_count": 216,
   "id": "c4b7847f",
   "metadata": {},
   "outputs": [
    {
     "data": {
      "text/plain": [
       "WindowsPath('C:/Users/vlvdi/Desktop/EMG/alvi/weights/latest_simple_nast.pt')"
      ]
     },
     "execution_count": 216,
     "metadata": {},
     "output_type": "execute_result"
    }
   ],
   "source": [
    "CKPT_PATH"
   ]
  },
  {
   "cell_type": "code",
   "execution_count": 96,
   "id": "485ddfe7",
   "metadata": {},
   "outputs": [],
   "source": [
    "def normalize_quats(v):\n",
    "    \"\"\"\n",
    "    [Time, n_bones, 4]\n",
    "    \"\"\"\n",
    "    norm = np.linalg.norm(v, axis=-1, keepdims=True)\n",
    "    return v / norm\n",
    "\n",
    "\n",
    "def smooth_ema(data, coef, prev=None):\n",
    "    \"\"\"\n",
    "    This should not be applied on quanternions\n",
    "    [Time, ...]\n",
    "    coef in range [0, 1)\n",
    "    coef = 0 -> no smooth\n",
    "    \"\"\"\n",
    "    \n",
    "    if prev is None:\n",
    "        prev = data[0]\n",
    "        for i in range(1, len(data)): \n",
    "            data[i] = prev * coef + data[i] * (1 - coef)\n",
    "            prev = data[i]\n",
    "    else: \n",
    "        for i in range(0, len(data)): \n",
    "            data[i] = prev * coef + data[i] * (1 - coef)\n",
    "            prev = data[i]        \n",
    "    return data\n",
    "\n",
    "\n",
    "# method for quats model in same fps as EMG, NOT used in inference scripts\n",
    "def myo_to_vr(emg, device=DEVICE):\n",
    "    \"\"\"\n",
    "    Preproc emg window and predict vr points.\n",
    "    Last points only.\n",
    "\n",
    "    :return:\n",
    "        Return list of  Last vr points with step parameters [step, 16*4]\n",
    "    \"\"\"\n",
    "    # global targets_load\n",
    "    try:\n",
    "        # emg = (np.array(emg) + np.nanmean(np.array(emg))) / np.nanmax(np.array(emg))\n",
    "        print('I AM WORKING!!!!!!!')\n",
    "        # CHANGES\n",
    "        # emg = (np.array(emg) + 128) / 255.\n",
    "    except Exception as err:\n",
    "        raise err\n",
    "    \n",
    "    vr_output = model.inference(emg, device=device, first_bone_is_constant=True)\n",
    "    vr_output = np.reshape(vr_output, (vr_output.shape[0], 64))\n",
    "    \n",
    "    # vr_last_points = vr_output[-STRIDE:]  # get last points but with step border\n",
    "    vr_last_points = vr_output[::MODEL_DS_RATE]  # downsample\n",
    "    vr_last_points = normalize_quats(vr_last_points)\n",
    "\n",
    "    return list(vr_last_points)"
   ]
  },
  {
   "cell_type": "code",
   "execution_count": 113,
   "id": "6671645b",
   "metadata": {},
   "outputs": [],
   "source": [
    "# for angle model use inference_v2\n",
    "def myo_to_angles(emg, min=0, max=0.0001, device=DEVICE):\n",
    "    \"\"\"\n",
    "    Preproc emg window and predict vr points.\n",
    "    Last points only.\n",
    "\n",
    "    :return:\n",
    "        Return list of  Last vr points with step parameters [step, 16*4]\n",
    "    \"\"\"\n",
    "    # global targets_load\n",
    "\n",
    "    try:\n",
    "        emg_new = emg # (np.array(emg) - min) / (max - min)\n",
    "        print(np.array(emg).shape)\n",
    "        # CHANGES\n",
    "        # emg = (np.array(emg) + 128) / 255\n",
    "    except Exception as err:\n",
    "        emg_new = [[1 for j in range(8)] for i in range(256)]\n",
    "        emg_new = np.array(emg_new)\n",
    "        #raise err\n",
    "\n",
    "    #emg_new = emg_new * 2 - 1\n",
    "\n",
    "    # 0 <= emg <= 2\n",
    "\n",
    "    if REORDER_ELECTORDES:\n",
    "        emg_new = emg_new[:, (6, 5, 4, 3, 2, 1, 0, 7)]\n",
    "        \n",
    "    if MODEL_TYPE == 'hvatnet_v3':\n",
    "        # for hvatnetmodel!!\n",
    "        vr_output = model.inference_v2(emg_new, device=device, first_bone_is_constant=True)\n",
    "    else: \n",
    "        raise ValueError('Wrong model_type !')\n",
    "    return vr_output\n",
    "\n",
    "\n",
    "## need to import HVATNet_v2 for this to work\n",
    "def load_HVATNetv2(CKPT_PATH = 'HVATNet_v2_matvey_fixed_quats.pt'):\n",
    "    from models import HVATNet_v2\n",
    "     # init model and load weights\n",
    "    hvatnet_v2_params =dict(n_electrodes=8, n_channels_out=64,\n",
    "                        n_res_blocks=3, n_blocks_per_layer=2,\n",
    "                        n_filters=128, kernel_size=3,\n",
    "                        strides=(2, 2, 2, 4),\n",
    "                        dilation=2)\n",
    "    \n",
    "    # device = 'cuda' if torch.cuda.is_available() else 'cpu'\n",
    "    model = HVATNet_v2.HVATNetv2(**hvatnet_v2_params)\n",
    "    model.load_state_dict(torch.load(CKPT_PATH, map_location=torch.device(DEVICE)))\n",
    "    model.to(DEVICE)\n",
    "    model.eval()\n",
    "    return model\n",
    "\n",
    "def upload_weights_pl(model, path, pt):\n",
    "    class Lit_Wrapper(pl.LightningModule):\n",
    "        def __init__(self, model):\n",
    "            super().__init__()\n",
    "            self.model = model\n",
    "        def forward(self, x):\n",
    "            x = self.model(x)\n",
    "            return x\n",
    "    \n",
    "    if pt == 'ckpt':\n",
    "        ckpt = torch.load(path, map_location=torch.device('cpu'))\n",
    "        model_pl = Lit_Wrapper(model)\n",
    "        model_pl.load_state_dict(ckpt['state_dict'])\n",
    "    else:\n",
    "        try:\n",
    "            ckpt = torch.load(path, map_location=torch.device('cpu'))\n",
    "            model_pl = Lit_Wrapper(model)\n",
    "            model_pl.load_state_dict(ckpt)\n",
    "        except:\n",
    "            ckpt = torch.load(path, map_location=torch.device('cpu'))\n",
    "            model.load_state_dict(ckpt)\n",
    "            return model\n",
    "    \n",
    "    return model_pl.model\n",
    "\n",
    "def load_HVATNetv3(CKPT_PATH):\n",
    "    from models import HVATNet_v3_FineTune\n",
    "\n",
    "    # device = 'cuda' if torch.cuda.is_available() else 'cpu'\n",
    "    hvatnet_v3_params =dict(n_electrodes=8, n_channels_out=20,\n",
    "                        n_res_blocks=3, n_blocks_per_layer=3,\n",
    "                        n_filters=128, kernel_size=3,\n",
    "                        strides=(2, 2, 2), dilation=2,\n",
    "                        use_angles=True)\n",
    "    \n",
    "    model = HVATNet_v3_FineTune.HVATNetv3(**hvatnet_v3_params)\n",
    "    model = upload_weights_pl(model, CKPT_PATH, CKPT_PATH[-4:])\n",
    "    \n",
    "    model.eval()\n",
    "    return model\n",
    "\n",
    "\n",
    "# buffer of EMG inlet shold be >= WINDOW_SIZE (maybe in seconds)\n",
    "def pull_predict(emg_inlet,\n",
    "                 quat_buf_outlet,\n",
    "                    window_size,\n",
    "                    stride,\n",
    "                        emg_buffer,\n",
    "                            last_angle=None,\n",
    "                            smooth_coef = None, min_emg=0, max_emg=0.0001):\n",
    "    counter = 0 \n",
    "    start_time = pylsl.local_clock()\n",
    "    \n",
    "    # dropping stride of old EMG\n",
    "    emg_buffer = emg_buffer[stride:]\n",
    "    # pulling stride new emg\n",
    "    emgpull_start_time = pylsl.local_clock()\n",
    "    while counter < stride:\n",
    "        emg, timestamp = emg_inlet.pull_sample()\n",
    "        emg_buffer.append(emg)\n",
    "        counter += 1\n",
    "    emgpull_end_time = pylsl.local_clock()\n",
    "\n",
    "    # angle_buffer = myo_to_vr(emg_buffer)\n",
    "    modelpred_start_time = pylsl.local_clock()\n",
    "    angle_buffer = myo_to_angles(emg_buffer, min_emg, max_emg)\n",
    "\n",
    "    modelpred_end_time = pylsl.local_clock()\n",
    "\n",
    "    angle_buffer = angle_buffer[-(stride//MODEL_DS_RATE):]\n",
    "\n",
    "    # smoothing only to angles\n",
    "    smooth_start_time = pylsl.local_clock()\n",
    "    if not smooth_coef is None:\n",
    "        angle_buffer = smooth_ema(data=angle_buffer,\n",
    "                                    prev=last_angle,\n",
    "                                    coef=smooth_coef)\n",
    "    smooth_end_time = pylsl.local_clock()    \n",
    "    # angles to quats conversion\n",
    "    anglequat_start_time = pylsl.local_clock()\n",
    "    quat_to_push = get_quats(angle_buffer)\n",
    "    quat_to_push = rearrange(quat_to_push, 't b q -> t (b q)')\n",
    "    anglequat_end_time = pylsl.local_clock()\n",
    "    # this be buffered again and resend with regular sample rate\n",
    "    for sample in quat_to_push:\n",
    "        quat_buf_outlet.push_sample(sample)\n",
    "        \n",
    "    # counting exec time and wait for new stride of EMG samples to come \n",
    "    end_time = pylsl.local_clock()\n",
    "    exec_time = end_time  - start_time   \n",
    "    wait_time = stride/VR_OUTPUT_FPS - exec_time # waiting for stride of EMG to come\n",
    "    exec_time_list.append(float(exec_time))\n",
    "    # logging execution time\n",
    "    time_log_pull.append(emgpull_end_time - emgpull_start_time) \n",
    "    time_log_modelpred.append(modelpred_end_time - modelpred_start_time) \n",
    "    time_log_smooth.append(smooth_end_time - smooth_start_time)\n",
    "    time_log_exec.append(end_time - start_time)\n",
    "    print(f'''\n",
    "    emg pull time = {time_log_pull[-1]}\n",
    "    model pred time = {time_log_modelpred[-1]}\n",
    "    smoothing time = {time_log_smooth[-1]}\n",
    "    EXEC time = {time_log_exec[-1]}\n",
    "    ''')\n",
    "    # time.sleep(0 if wait_time < 0 else wait_time)\n",
    "    # return emg_buffer and last angle for smoothing\n",
    "    return emg_buffer, angle_buffer[-1]\n",
    "\n",
    "\n",
    "def event_loop(model, \n",
    "               emg_inlet,\n",
    "               quat_buf_outlet,\n",
    "               window_size,\n",
    "               stride,\n",
    "               smooth_coef=None, \n",
    "               update_weights_time = 15):\n",
    "\n",
    "    emg_buffer = [[0 for j in range(8)] for i in range(window_size)]\n",
    "    prev_angle = None\n",
    "    print(len(emg_buffer))\n",
    "    counter = 0\n",
    "    global_counter = 0\n",
    "    last_weights_path = None\n",
    "\n",
    "    min_emg = 0\n",
    "    max_emg = 0.00001\n",
    "\n",
    "    while True: \n",
    "        emg_buffer, prev_angle = pull_predict(emg_inlet=emg_inlet,\n",
    "                                              quat_buf_outlet=quat_buf_outlet,\n",
    "                                                window_size=window_size,\n",
    "                                                stride=stride,\n",
    "                                                emg_buffer=emg_buffer,\n",
    "                                                last_angle=prev_angle,\n",
    "                                                smooth_coef=smooth_coef, min_emg=min_emg, max_emg=max_emg)\n",
    "\n",
    "        try:\n",
    "            if global_counter < 200:\n",
    "                min_new = np.nanmin(emg_buffer)\n",
    "                max_new = np.nanmax(emg_buffer)\n",
    "\n",
    "                if min_new < min_emg:\n",
    "                    min_emg = min_new\n",
    "                if max_new > max_emg:\n",
    "                    max_emg = max_new\n",
    "        except:\n",
    "            None\n",
    "\n",
    "        print('Current time', stride / VR_OUTPUT_FPS * counter)\n",
    "        if stride / VR_OUTPUT_FPS * counter > update_weights_time:\n",
    "            counter = 0 \n",
    "            start_update_time = time.time()\n",
    "            model, last_weights_path, updated = reload_weights(model, REALTIME_WEIGHTS_FOLDER, last_weights_path)\n",
    "            update_time = time.time() - start_update_time\n",
    "            print(f'weights {updated=} {last_weights_path.name if last_weights_path is not None else last_weights_path}')\n",
    "            if updated:\n",
    "                print(f'WEIGHTS UPDATE TIME = {update_time}')\n",
    "        counter += 1\n",
    "        global_counter += 1\n",
    "\n",
    "\n",
    "def reload_weights(model, folder, last_weights_path):\n",
    "    paths = sorted(folder.iterdir())\n",
    "    if len(paths) > 2:\n",
    "        new_path = paths[-1]\n",
    "    else:\n",
    "        new_path = last_weights_path\n",
    "    # print(sorted(folder.iterdir()))\n",
    "    print(f'{new_path=}')\n",
    "    print(f'{last_weights_path=}')\n",
    "    updated = (last_weights_path != new_path) \n",
    "    if updated:\n",
    "        model.load_state_dict(torch.load(new_path, map_location=torch.device(DEVICE)))\n",
    "        model.to(DEVICE)\n",
    "        model.eval()\n",
    "    return model, new_path, updated     "
   ]
  },
  {
   "cell_type": "markdown",
   "id": "eca34c78",
   "metadata": {},
   "source": [
    "## Runtime"
   ]
  },
  {
   "cell_type": "code",
   "execution_count": 176,
   "id": "41d45760",
   "metadata": {},
   "outputs": [
    {
     "data": {
      "text/plain": [
       "256"
      ]
     },
     "execution_count": 176,
     "metadata": {},
     "output_type": "execute_result"
    }
   ],
   "source": [
    "WINDOW_SIZE"
   ]
  },
  {
   "cell_type": "code",
   "execution_count": 160,
   "id": "dc3f71ce",
   "metadata": {},
   "outputs": [],
   "source": [
    "MYO_INPUT_FPS = int(config['global']['myo_input_fps'])\n",
    "VR_OUTPUT_FPS = int(config['global']['vr_output_fps'])  # fps which we want to have in vr.\n",
    "MODEL_OUTPUT_FPS = int(config['global']['model_output_fps'])\n",
    "WINDOW_SIZE = int(config['inference']['window_size'])\n",
    "STRIDE = 256 #int(config['inference']['stride'])\n",
    "SMOOTH_COEF = float(config['inference']['smooth_coef'])\n",
    "UPDATE_WEIGHTS_TIME = int(config['inference']['update_weights_time'])\n",
    "\n",
    "TOTAL_DS_RATE = MYO_INPUT_FPS // VR_OUTPUT_FPS\n",
    "MODEL_DS_RATE = MYO_INPUT_FPS // MODEL_OUTPUT_FPS\n",
    "\n",
    "VR_BUFFER = []\n",
    "EMG_BUFFER = []\n",
    "counter_emg = 0"
   ]
  },
  {
   "cell_type": "code",
   "execution_count": 161,
   "id": "93f26b2e",
   "metadata": {},
   "outputs": [
    {
     "data": {
      "text/plain": [
       "'C:\\\\Users\\\\vlvdi\\\\Desktop\\\\EMG\\\\alvi\\\\weights\\\\latest_simple_nast.pt'"
      ]
     },
     "execution_count": 161,
     "metadata": {},
     "output_type": "execute_result"
    }
   ],
   "source": [
    "str(CKPT_PATH)"
   ]
  },
  {
   "cell_type": "code",
   "execution_count": 162,
   "id": "6f0c950e",
   "metadata": {},
   "outputs": [
    {
     "name": "stdout",
     "output_type": "stream",
     "text": [
      "Number of parameters:  4210788\n"
     ]
    }
   ],
   "source": [
    "model = load_HVATNetv3(str(CKPT_PATH))"
   ]
  },
  {
   "cell_type": "code",
   "execution_count": 163,
   "id": "91e0fc7b",
   "metadata": {},
   "outputs": [],
   "source": [
    "# buffer of EMG inlet shold be >= WINDOW_SIZE (maybe in seconds)\n",
    "def pull_predict_offline(sample, window_size,\n",
    "                    stride, emg_buffer, last_angle=None, smooth_coef=None, min_emg=0, max_emg=0.0001):\n",
    "    counter = 0\n",
    "    MODEL_DS_RATE = 10\n",
    "    \n",
    "    # dropping stride of old EMG\n",
    "    emg_buffer = emg_buffer[stride:]\n",
    "    # pulling stride new emg\n",
    "    \n",
    "    # buffer of EMG inlet shold be >= WINDOW_SIZE (maybe in seconds)\n",
    "    emg_buffer = sample\n",
    "    counter += 1\n",
    "\n",
    "    # angle_buffer = myo_to_vr(emg_buffer)\n",
    "    angle_buffer = myo_to_angles(emg_buffer, min_emg, max_emg)\n",
    "\n",
    "    angle_buffer = angle_buffer[-(stride//MODEL_DS_RATE):]\n",
    "\n",
    "    # smoothing only to angles\n",
    "    if not smooth_coef is None:\n",
    "        angle_buffer = smooth_ema(data=angle_buffer,\n",
    "                                    prev=last_angle,\n",
    "                                    coef=smooth_coef)\n",
    "        \n",
    "    # angles to quats conversion\n",
    "    quat_to_push = get_quats(angle_buffer)\n",
    "    quat_to_push = rearrange(quat_to_push, 't b q -> t (b q)')\n",
    "\n",
    "    return emg_buffer, angle_buffer[-1]"
   ]
  },
  {
   "cell_type": "code",
   "execution_count": 164,
   "id": "b1b0dcfb",
   "metadata": {},
   "outputs": [],
   "source": [
    "path = f\"C:/Users/vlvdi/Desktop/EMG/EMG_TRAINING/Nastya/GeneralTraining/Validation/1_1/0000.npz\"\n",
    "data = np.load(path)\n",
    "myo = data['data_myo']\n",
    "angles = data['data_vr']"
   ]
  },
  {
   "cell_type": "code",
   "execution_count": 165,
   "id": "711d9aab",
   "metadata": {},
   "outputs": [
    {
     "data": {
      "text/plain": [
       "(22233, 8)"
      ]
     },
     "execution_count": 165,
     "metadata": {},
     "output_type": "execute_result"
    }
   ],
   "source": [
    "myo.shape"
   ]
  },
  {
   "cell_type": "code",
   "execution_count": 166,
   "id": "fc9df309",
   "metadata": {},
   "outputs": [],
   "source": [
    "#myo = myo[0:myo.shape[0] - sum(np.isnan(myo[:, 0])), :]"
   ]
  },
  {
   "cell_type": "code",
   "execution_count": 188,
   "id": "70330648",
   "metadata": {},
   "outputs": [
    {
     "data": {
      "text/plain": [
       "(22233, 8)"
      ]
     },
     "execution_count": 188,
     "metadata": {},
     "output_type": "execute_result"
    }
   ],
   "source": [
    "myo.shape"
   ]
  },
  {
   "cell_type": "code",
   "execution_count": 221,
   "id": "4d46f580",
   "metadata": {},
   "outputs": [],
   "source": [
    "data = []\n",
    "\n",
    "for plus in range(0, myo.shape[0], 256):\n",
    "    data.append(myo[plus:256+plus, :])"
   ]
  },
  {
   "cell_type": "code",
   "execution_count": 222,
   "id": "5be62b0b",
   "metadata": {},
   "outputs": [
    {
     "data": {
      "text/plain": [
       "86"
      ]
     },
     "execution_count": 222,
     "metadata": {},
     "output_type": "execute_result"
    }
   ],
   "source": [
    "(myo.shape[0] - 256)//256 + 1"
   ]
  },
  {
   "cell_type": "code",
   "execution_count": 223,
   "id": "5ca4c74d",
   "metadata": {},
   "outputs": [
    {
     "data": {
      "text/plain": [
       "87"
      ]
     },
     "execution_count": 223,
     "metadata": {},
     "output_type": "execute_result"
    }
   ],
   "source": [
    "len(data)"
   ]
  },
  {
   "cell_type": "code",
   "execution_count": 237,
   "id": "bd1ffaf5",
   "metadata": {},
   "outputs": [
    {
     "name": "stdout",
     "output_type": "stream",
     "text": [
      "256\n"
     ]
    }
   ],
   "source": [
    "emg_buffer = [[0 for j in range(8)] for i in range(WINDOW_SIZE)]\n",
    "prev_angle = None\n",
    "print(len(emg_buffer))\n",
    "counter = 0\n",
    "global_counter = 0\n",
    "last_weights_path = None\n",
    "\n",
    "min_emg = 0\n",
    "max_emg = 0.00001\n",
    "\n",
    "angless = []\n",
    "\n",
    "for sample in range(0, len(data)-1): \n",
    "#     emg_buffer, prev_angle = pull_predict_offline(sample=data[sample],\n",
    "#                                             window_size=WINDOW_SIZE,\n",
    "#                                             stride=STRIDE,\n",
    "#                                             emg_buffer=emg_buffer,\n",
    "#                                             last_angle=prev_angle,\n",
    "#                                             smooth_coef=SMOOTH_COEF, min_emg=min_emg, max_emg=max_emg)\n",
    "    pred = model.inference(data[sample], device = 'cpu')\n",
    "    angless.append(pred)\n",
    "#     try:\n",
    "#         if global_counter < 200:\n",
    "#             min_new = np.nanmin(emg_buffer)\n",
    "#             max_new = np.nanmax(emg_buffer)\n",
    "\n",
    "#             if min_new < min_emg:\n",
    "#                 min_emg = min_new\n",
    "#             if max_new > max_emg:\n",
    "#                 max_emg = max_new\n",
    "#     except:\n",
    "#         None\n",
    "\n",
    "    counter += 1\n",
    "    global_counter += 1"
   ]
  },
  {
   "cell_type": "code",
   "execution_count": 238,
   "id": "eaae4a37",
   "metadata": {},
   "outputs": [],
   "source": [
    "angls = np.concatenate(angless, axis=0)"
   ]
  },
  {
   "cell_type": "code",
   "execution_count": 241,
   "id": "277468ec",
   "metadata": {},
   "outputs": [],
   "source": [
    "angls = np.array(angls)"
   ]
  },
  {
   "cell_type": "code",
   "execution_count": 248,
   "id": "2984124b",
   "metadata": {},
   "outputs": [
    {
     "data": {
      "text/plain": [
       "(2752, 16, 4)"
      ]
     },
     "execution_count": 248,
     "metadata": {},
     "output_type": "execute_result"
    }
   ],
   "source": [
    "angls.shape"
   ]
  },
  {
   "cell_type": "code",
   "execution_count": 243,
   "id": "58748191",
   "metadata": {},
   "outputs": [],
   "source": [
    "preds = get_angles(angls)"
   ]
  },
  {
   "cell_type": "code",
   "execution_count": 246,
   "id": "540120a9",
   "metadata": {},
   "outputs": [],
   "source": [
    "preds_quat = get_quats(preds)"
   ]
  },
  {
   "cell_type": "code",
   "execution_count": 249,
   "id": "2de78ca2",
   "metadata": {},
   "outputs": [
    {
     "data": {
      "text/plain": [
       "(2752, 16, 4)"
      ]
     },
     "execution_count": 249,
     "metadata": {},
     "output_type": "execute_result"
    }
   ],
   "source": [
    "preds_quat.shape"
   ]
  },
  {
   "cell_type": "code",
   "execution_count": 251,
   "id": "4bc347af",
   "metadata": {},
   "outputs": [
    {
     "name": "stdout",
     "output_type": "stream",
     "text": [
      "Video test_online completed\n"
     ]
    }
   ],
   "source": [
    "NEW_FPS = 25\n",
    "DRAW_EVERY = 4\n",
    "\n",
    "visualize_and_save_anim_gifs(data=angls[::DRAW_EVERY],\n",
    "                        path=Path('C:/Users/vlvdi/Desktop/EMG/test_online.gif'), \n",
    "                        fps=NEW_FPS)"
   ]
  },
  {
   "cell_type": "code",
   "execution_count": null,
   "id": "234f0ed3",
   "metadata": {},
   "outputs": [],
   "source": []
  }
 ],
 "metadata": {
  "kernelspec": {
   "display_name": "Python 3 (ipykernel)",
   "language": "python",
   "name": "python3"
  },
  "language_info": {
   "codemirror_mode": {
    "name": "ipython",
    "version": 3
   },
   "file_extension": ".py",
   "mimetype": "text/x-python",
   "name": "python",
   "nbconvert_exporter": "python",
   "pygments_lexer": "ipython3",
   "version": "3.9.0"
  }
 },
 "nbformat": 4,
 "nbformat_minor": 5
}
