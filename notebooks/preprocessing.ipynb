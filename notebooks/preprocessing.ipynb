{
 "cells": [
  {
   "cell_type": "code",
   "execution_count": 2,
   "id": "7265d0a0",
   "metadata": {},
   "outputs": [],
   "source": [
    "import sys\n",
    "import os\n",
    "import pickle\n",
    "\n",
    "sys.path.insert(1, os.path.realpath(os.path.pardir))\n",
    "\n",
    "from tqdm import tqdm\n",
    "import numpy as np\n",
    "from pathlib import Path\n",
    "from tqdm import tqdm\n",
    "from natsort import natsorted\n",
    "\n",
    "from utils import data_utils\n",
    "from utils.quats_and_angles import get_angles"
   ]
  },
  {
   "cell_type": "code",
   "execution_count": 4,
   "id": "626b868a",
   "metadata": {},
   "outputs": [],
   "source": [
    "def get_subdirs(rootdir):\n",
    "    paths = []\n",
    "    for path in Path(rootdir).iterdir():\n",
    "        if path.is_dir():\n",
    "            paths.append(path)\n",
    "    return paths\n",
    "\n",
    "\n",
    "config = dict(\n",
    "    original_fps=200,  # TODO describtion\n",
    "    delay_ms=0,  # Shift vr vs EMG parameter. ms dealy between emg and VR.\n",
    "    start_crop_ms=0,  # bad values in the beginning of recordign in ms to delete.\n",
    "    window_size=256,\n",
    ")\n",
    "\n",
    "\n",
    "class AttrDict(dict):\n",
    "    def __init__(self, *args, **kwargs):\n",
    "        super(AttrDict, self).__init__(*args, **kwargs)\n",
    "        self.__dict__ = self\n",
    "\n",
    "\n",
    "config = AttrDict(config)"
   ]
  },
  {
   "cell_type": "markdown",
   "id": "0a75bb5b",
   "metadata": {},
   "source": [
    "Normal. Fedor"
   ]
  },
  {
   "cell_type": "code",
   "execution_count": null,
   "id": "f500973f",
   "metadata": {},
   "outputs": [
    {
     "name": "stdout",
     "output_type": "stream",
     "text": [
      "[WindowsPath('D:/study/myo/emg-virtual/data/Fedor/Raw')]\n",
      "ALL_PATHS:  [WindowsPath('D:/study/myo/emg-virtual/data/Fedor/Raw/1')]\n",
      "Number of paths:  1\n",
      "Number of moves: 4 | Dataset: Fedor\n"
     ]
    },
    {
     "name": "stderr",
     "output_type": "stream",
     "text": [
      "  0%|          | 0/4 [00:00<?, ?it/s]"
     ]
    },
    {
     "name": "stdout",
     "output_type": "stream",
     "text": [
      "Slice myo_timestamps and all data from 0 to 44452\n",
      "Fs before downsampling: 500.0000002789086\n",
      "Fs after downsampling: 249.9999997318126\n"
     ]
    },
    {
     "name": "stderr",
     "output_type": "stream",
     "text": [
      " 25%|██▌       | 1/4 [00:02<00:07,  2.43s/it]"
     ]
    },
    {
     "name": "stdout",
     "output_type": "stream",
     "text": [
      "Slice myo_timestamps and all data from 0 to 44429\n",
      "Fs before downsampling: 500.0000003005186\n",
      "Fs after downsampling: 250.0000001502593\n"
     ]
    },
    {
     "name": "stderr",
     "output_type": "stream",
     "text": [
      " 50%|█████     | 2/4 [00:04<00:04,  2.45s/it]"
     ]
    },
    {
     "name": "stdout",
     "output_type": "stream",
     "text": [
      "Slice myo_timestamps and all data from 0 to 44391\n",
      "Fs before downsampling: 500.0000001611299\n",
      "Fs after downsampling: 250.00000008056494\n"
     ]
    },
    {
     "name": "stderr",
     "output_type": "stream",
     "text": [
      " 75%|███████▌  | 3/4 [00:07<00:02,  2.43s/it]"
     ]
    },
    {
     "name": "stdout",
     "output_type": "stream",
     "text": [
      "Slice myo_timestamps and all data from 0 to 44459\n",
      "Fs before downsampling: 500.0000006220828\n",
      "Fs after downsampling: 250.0000003110414\n"
     ]
    },
    {
     "name": "stderr",
     "output_type": "stream",
     "text": [
      "100%|██████████| 4/4 [00:09<00:00,  2.43s/it]"
     ]
    },
    {
     "name": "stdout",
     "output_type": "stream",
     "text": [
      "Total len: 344\n"
     ]
    },
    {
     "name": "stderr",
     "output_type": "stream",
     "text": [
      "\n"
     ]
    }
   ],
   "source": [
    "ROOT_DIR = Path(\"D:\\\\study\\\\myo\\\\emg-virtual\\\\data\\\\Fedor\\\\\")\n",
    "DATASET_NAMES = [\"Raw\"]\n",
    "dataset_paths = [ROOT_DIR / Path(n) for n in DATASET_NAMES]\n",
    "print(dataset_paths)\n",
    "\n",
    "ALL_PATHS = []\n",
    "for dp in dataset_paths:\n",
    "    ALL_PATHS.extend(get_subdirs(dp))\n",
    "\n",
    "print(\"ALL_PATHS: \", ALL_PATHS)\n",
    "print(\"Number of paths: \", len(ALL_PATHS))\n",
    "\n",
    "path = ALL_PATHS[0]\n",
    "sorted_pth = sorted(path.glob(\"*.npz\"))\n",
    "sorted_pth = natsorted(sorted_pth)\n",
    "\n",
    "dataset = data_utils.create_dataset(\n",
    "    data_folder=path,\n",
    "    original_fps=config.original_fps,\n",
    "    delay_ms=config.delay_ms,\n",
    "    start_crop_ms=config.start_crop_ms,\n",
    "    window_size=config.window_size,\n",
    "    random_sampling=False,\n",
    "    transform=None,\n",
    ")"
   ]
  },
  {
   "cell_type": "code",
   "execution_count": null,
   "id": "e4d2ee67",
   "metadata": {},
   "outputs": [
    {
     "name": "stderr",
     "output_type": "stream",
     "text": [
      "100%|██████████| 4/4 [00:39<00:00,  9.90s/it]\n"
     ]
    }
   ],
   "source": [
    "n_channels = 6\n",
    "\n",
    "for idx, exp_data in enumerate(tqdm(dataset.exps_data)):\n",
    "    # select informative EMG channels\n",
    "    exp_data[\"data_myo\"] = exp_data[\"data_myo\"][:, :n_channels]\n",
    "\n",
    "    # convert vr to angles\n",
    "    exp_data[\"data_angles\"] = get_angles(exp_data[\"data_vr\"])\n",
    "\n",
    "    # save\n",
    "    np.savez(\n",
    "        f\"D:\\\\study\\\\myo\\\\emg-virtual\\\\data\\\\Fedor\\\\Preprocessed\\\\1\\\\{idx:04d}.npz\",\n",
    "        **exp_data,\n",
    "    )"
   ]
  },
  {
   "cell_type": "markdown",
   "id": "072bd741",
   "metadata": {},
   "source": [
    "Normal. Fedor Jan"
   ]
  },
  {
   "cell_type": "code",
   "execution_count": null,
   "id": "f732057d",
   "metadata": {},
   "outputs": [
    {
     "name": "stdout",
     "output_type": "stream",
     "text": [
      "ALL_PATHS:  [WindowsPath('D:/study/myo/emg-virtual/data/Fedor_Jan/Raw/Simple1/1'), WindowsPath('D:/study/myo/emg-virtual/data/Fedor_Jan/Raw/Simple1/2'), WindowsPath('D:/study/myo/emg-virtual/data/Fedor_Jan/Raw/Simple1/3'), WindowsPath('D:/study/myo/emg-virtual/data/Fedor_Jan/Raw/Simple1/4'), WindowsPath('D:/study/myo/emg-virtual/data/Fedor_Jan/Raw/Simple1/5'), WindowsPath('D:/study/myo/emg-virtual/data/Fedor_Jan/Raw/Simple2/1'), WindowsPath('D:/study/myo/emg-virtual/data/Fedor_Jan/Raw/Simple2/2'), WindowsPath('D:/study/myo/emg-virtual/data/Fedor_Jan/Raw/Simple2/3'), WindowsPath('D:/study/myo/emg-virtual/data/Fedor_Jan/Raw/Simple2/4'), WindowsPath('D:/study/myo/emg-virtual/data/Fedor_Jan/Raw/Simple2/5')]\n",
      "Number of paths:  10\n",
      "D:\\study\\myo\\emg-virtual\\data\\Fedor_Jan\\Raw\\Simple1\\1\n",
      "Number of moves: 8 | Dataset: Raw\n"
     ]
    },
    {
     "name": "stderr",
     "output_type": "stream",
     "text": [
      "  0%|          | 0/8 [00:00<?, ?it/s]"
     ]
    },
    {
     "name": "stdout",
     "output_type": "stream",
     "text": [
      "Slice myo_timestamps and all data from 0 to 44451\n",
      "Fs before downsampling: 499.9999994636252\n",
      "Fs after downsampling: 249.9999997318126\n"
     ]
    },
    {
     "name": "stderr",
     "output_type": "stream",
     "text": [
      " 12%|█▎        | 1/8 [00:02<00:17,  2.44s/it]"
     ]
    },
    {
     "name": "stdout",
     "output_type": "stream",
     "text": [
      "Slice myo_timestamps and all data from 0 to 44454\n",
      "Fs before downsampling: 499.9999992276725\n",
      "Fs after downsampling: 249.99999987663935\n"
     ]
    },
    {
     "name": "stderr",
     "output_type": "stream",
     "text": [
      " 25%|██▌       | 2/8 [00:04<00:14,  2.40s/it]"
     ]
    },
    {
     "name": "stdout",
     "output_type": "stream",
     "text": [
      "Slice myo_timestamps and all data from 0 to 44463\n",
      "Fs before downsampling: 499.99999986058015\n",
      "Fs after downsampling: 249.99999993029007\n"
     ]
    },
    {
     "name": "stderr",
     "output_type": "stream",
     "text": [
      " 38%|███▊      | 3/8 [00:07<00:11,  2.40s/it]"
     ]
    },
    {
     "name": "stdout",
     "output_type": "stream",
     "text": [
      "Slice myo_timestamps and all data from 0 to 44457\n",
      "Fs before downsampling: 500.00000033250745\n",
      "Fs after downsampling: 250.00000016625373\n"
     ]
    },
    {
     "name": "stderr",
     "output_type": "stream",
     "text": [
      " 50%|█████     | 4/8 [00:09<00:09,  2.39s/it]"
     ]
    },
    {
     "name": "stdout",
     "output_type": "stream",
     "text": [
      "Slice myo_timestamps and all data from 0 to 44468\n",
      "Fs before downsampling: 499.9999999142128\n",
      "Fs after downsampling: 249.99999954960734\n"
     ]
    },
    {
     "name": "stderr",
     "output_type": "stream",
     "text": [
      " 62%|██████▎   | 5/8 [00:11<00:07,  2.39s/it]"
     ]
    },
    {
     "name": "stdout",
     "output_type": "stream",
     "text": [
      "Slice myo_timestamps and all data from 0 to 44464\n",
      "Fs before downsampling: 499.9999993350898\n",
      "Fs after downsampling: 249.99999993029007\n"
     ]
    },
    {
     "name": "stderr",
     "output_type": "stream",
     "text": [
      " 75%|███████▌  | 6/8 [00:14<00:04,  2.40s/it]"
     ]
    },
    {
     "name": "stdout",
     "output_type": "stream",
     "text": [
      "Slice myo_timestamps and all data from 0 to 44458\n",
      "Fs before downsampling: 499.9999998069355\n",
      "Fs after downsampling: 249.9999994958758\n"
     ]
    },
    {
     "name": "stderr",
     "output_type": "stream",
     "text": [
      " 88%|████████▊ | 7/8 [00:16<00:02,  2.39s/it]"
     ]
    },
    {
     "name": "stdout",
     "output_type": "stream",
     "text": [
      "Slice myo_timestamps and all data from 0 to 44468\n",
      "Fs before downsampling: 499.9999999142128\n",
      "Fs after downsampling: 250.0000002198345\n"
     ]
    },
    {
     "name": "stderr",
     "output_type": "stream",
     "text": [
      "100%|██████████| 8/8 [00:19<00:00,  2.39s/it]\n"
     ]
    },
    {
     "name": "stdout",
     "output_type": "stream",
     "text": [
      "Total len: 688\n"
     ]
    },
    {
     "name": "stderr",
     "output_type": "stream",
     "text": [
      "100%|██████████| 8/8 [01:15<00:00,  9.47s/it]\n"
     ]
    },
    {
     "name": "stdout",
     "output_type": "stream",
     "text": [
      "D:\\study\\myo\\emg-virtual\\data\\Fedor_Jan\\Raw\\Simple1\\2\n",
      "Number of moves: 8 | Dataset: Raw\n"
     ]
    },
    {
     "name": "stderr",
     "output_type": "stream",
     "text": [
      "  0%|          | 0/8 [00:00<?, ?it/s]"
     ]
    },
    {
     "name": "stdout",
     "output_type": "stream",
     "text": [
      "Slice myo_timestamps and all data from 0 to 44465\n",
      "Fs before downsampling: 500.0000001501376\n",
      "Fs after downsampling: 250.0000000750688\n"
     ]
    },
    {
     "name": "stderr",
     "output_type": "stream",
     "text": [
      " 12%|█▎        | 1/8 [00:02<00:18,  2.58s/it]"
     ]
    },
    {
     "name": "stdout",
     "output_type": "stream",
     "text": [
      "Slice myo_timestamps and all data from 0 to 44447\n",
      "Fs before downsampling: 500.00000022529764\n",
      "Fs after downsampling: 250.00000011264882\n"
     ]
    },
    {
     "name": "stderr",
     "output_type": "stream",
     "text": [
      " 25%|██▌       | 2/8 [00:05<00:15,  2.57s/it]"
     ]
    },
    {
     "name": "stdout",
     "output_type": "stream",
     "text": [
      "Slice myo_timestamps and all data from 0 to 44460\n",
      "Fs before downsampling: 500.0000000965279\n",
      "Fs after downsampling: 250.0000003110414\n"
     ]
    },
    {
     "name": "stderr",
     "output_type": "stream",
     "text": [
      " 38%|███▊      | 3/8 [00:07<00:12,  2.49s/it]"
     ]
    },
    {
     "name": "stdout",
     "output_type": "stream",
     "text": [
      "Slice myo_timestamps and all data from 0 to 44463\n",
      "Fs before downsampling: 499.99999986058015\n",
      "Fs after downsampling: 249.99999993029007\n"
     ]
    },
    {
     "name": "stderr",
     "output_type": "stream",
     "text": [
      " 50%|█████     | 4/8 [00:09<00:09,  2.45s/it]"
     ]
    },
    {
     "name": "stdout",
     "output_type": "stream",
     "text": [
      "Slice myo_timestamps and all data from 0 to 44459\n",
      "Fs before downsampling: 500.0000006220828\n",
      "Fs after downsampling: 250.0000003110414\n"
     ]
    },
    {
     "name": "stderr",
     "output_type": "stream",
     "text": [
      " 62%|██████▎   | 5/8 [00:12<00:07,  2.43s/it]"
     ]
    },
    {
     "name": "stdout",
     "output_type": "stream",
     "text": [
      "Slice myo_timestamps and all data from 0 to 44465\n",
      "Fs before downsampling: 500.0000001501376\n",
      "Fs after downsampling: 250.0000000750688\n"
     ]
    },
    {
     "name": "stderr",
     "output_type": "stream",
     "text": [
      " 75%|███████▌  | 6/8 [00:14<00:04,  2.41s/it]"
     ]
    },
    {
     "name": "stdout",
     "output_type": "stream",
     "text": [
      "Slice myo_timestamps and all data from 0 to 44464\n",
      "Fs before downsampling: 500.00000067563457\n",
      "Fs after downsampling: 249.99999993029007\n"
     ]
    },
    {
     "name": "stderr",
     "output_type": "stream",
     "text": [
      " 88%|████████▊ | 7/8 [00:17<00:02,  2.40s/it]"
     ]
    },
    {
     "name": "stdout",
     "output_type": "stream",
     "text": [
      "Slice myo_timestamps and all data from 0 to 44467\n",
      "Fs before downsampling: 500.000000439669\n",
      "Fs after downsampling: 250.0000002198345\n"
     ]
    },
    {
     "name": "stderr",
     "output_type": "stream",
     "text": [
      "100%|██████████| 8/8 [00:19<00:00,  2.44s/it]\n"
     ]
    },
    {
     "name": "stdout",
     "output_type": "stream",
     "text": [
      "Total len: 688\n"
     ]
    },
    {
     "name": "stderr",
     "output_type": "stream",
     "text": [
      "100%|██████████| 8/8 [01:17<00:00,  9.64s/it]\n"
     ]
    },
    {
     "name": "stdout",
     "output_type": "stream",
     "text": [
      "D:\\study\\myo\\emg-virtual\\data\\Fedor_Jan\\Raw\\Simple1\\3\n",
      "Number of moves: 8 | Dataset: Raw\n"
     ]
    },
    {
     "name": "stderr",
     "output_type": "stream",
     "text": [
      "  0%|          | 0/8 [00:00<?, ?it/s]"
     ]
    },
    {
     "name": "stdout",
     "output_type": "stream",
     "text": [
      "Slice myo_timestamps and all data from 0 to 44462\n",
      "Fs before downsampling: 499.9999990454891\n",
      "Fs after downsampling: 249.99999978549835\n"
     ]
    },
    {
     "name": "stderr",
     "output_type": "stream",
     "text": [
      " 12%|█▎        | 1/8 [00:02<00:16,  2.42s/it]"
     ]
    },
    {
     "name": "stdout",
     "output_type": "stream",
     "text": [
      "Slice myo_timestamps and all data from 0 to 44460\n",
      "Fs before downsampling: 500.0000000965279\n",
      "Fs after downsampling: 249.9999996406936\n"
     ]
    },
    {
     "name": "stderr",
     "output_type": "stream",
     "text": [
      " 25%|██▌       | 2/8 [00:04<00:14,  2.39s/it]"
     ]
    },
    {
     "name": "stdout",
     "output_type": "stream",
     "text": [
      "Slice myo_timestamps and all data from 0 to 44457\n",
      "Fs before downsampling: 500.00000033250745\n",
      "Fs after downsampling: 250.00000016625373\n"
     ]
    },
    {
     "name": "stderr",
     "output_type": "stream",
     "text": [
      " 38%|███▊      | 3/8 [00:07<00:11,  2.39s/it]"
     ]
    },
    {
     "name": "stdout",
     "output_type": "stream",
     "text": [
      "Slice myo_timestamps and all data from 0 to 44461\n",
      "Fs before downsampling: 499.9999995709967\n",
      "Fs after downsampling: 249.99999978549835\n"
     ]
    },
    {
     "name": "stderr",
     "output_type": "stream",
     "text": [
      " 50%|█████     | 4/8 [00:09<00:09,  2.40s/it]"
     ]
    },
    {
     "name": "stdout",
     "output_type": "stream",
     "text": [
      "Slice myo_timestamps and all data from 0 to 44466\n",
      "Fs before downsampling: 499.9999996246644\n",
      "Fs after downsampling: 249.9999994048115\n"
     ]
    },
    {
     "name": "stderr",
     "output_type": "stream",
     "text": [
      " 62%|██████▎   | 5/8 [00:12<00:07,  2.41s/it]"
     ]
    },
    {
     "name": "stdout",
     "output_type": "stream",
     "text": [
      "Slice myo_timestamps and all data from 0 to 44476\n",
      "Fs before downsampling: 499.99999973196344\n",
      "Fs after downsampling: 250.00000012866047\n"
     ]
    },
    {
     "name": "stderr",
     "output_type": "stream",
     "text": [
      " 75%|███████▌  | 6/8 [00:14<00:04,  2.40s/it]"
     ]
    },
    {
     "name": "stdout",
     "output_type": "stream",
     "text": [
      "Slice myo_timestamps and all data from 0 to 44464\n",
      "Fs before downsampling: 499.9999993350898\n",
      "Fs after downsampling: 249.99999993029007\n"
     ]
    },
    {
     "name": "stderr",
     "output_type": "stream",
     "text": [
      " 88%|████████▊ | 7/8 [00:16<00:02,  2.40s/it]"
     ]
    },
    {
     "name": "stdout",
     "output_type": "stream",
     "text": [
      "Slice myo_timestamps and all data from 0 to 44470\n",
      "Fs before downsampling: 500.00000020373534\n",
      "Fs after downsampling: 249.99999969439014\n"
     ]
    },
    {
     "name": "stderr",
     "output_type": "stream",
     "text": [
      "100%|██████████| 8/8 [00:19<00:00,  2.40s/it]\n"
     ]
    },
    {
     "name": "stdout",
     "output_type": "stream",
     "text": [
      "Total len: 688\n"
     ]
    },
    {
     "name": "stderr",
     "output_type": "stream",
     "text": [
      "100%|██████████| 8/8 [01:15<00:00,  9.43s/it]\n"
     ]
    },
    {
     "name": "stdout",
     "output_type": "stream",
     "text": [
      "D:\\study\\myo\\emg-virtual\\data\\Fedor_Jan\\Raw\\Simple1\\4\n",
      "Number of moves: 8 | Dataset: Raw\n"
     ]
    },
    {
     "name": "stderr",
     "output_type": "stream",
     "text": [
      "  0%|          | 0/8 [00:00<?, ?it/s]"
     ]
    },
    {
     "name": "stdout",
     "output_type": "stream",
     "text": [
      "Slice myo_timestamps and all data from 0 to 44466\n",
      "Fs before downsampling: 500.00000096514884\n",
      "Fs after downsampling: 250.0000000750688\n"
     ]
    },
    {
     "name": "stderr",
     "output_type": "stream",
     "text": [
      " 12%|█▎        | 1/8 [00:02<00:17,  2.47s/it]"
     ]
    },
    {
     "name": "stdout",
     "output_type": "stream",
     "text": [
      "Slice myo_timestamps and all data from 0 to 44468\n",
      "Fs before downsampling: 499.9999999142128\n",
      "Fs after downsampling: 249.99999954960734\n"
     ]
    },
    {
     "name": "stderr",
     "output_type": "stream",
     "text": [
      " 25%|██▌       | 2/8 [00:04<00:14,  2.44s/it]"
     ]
    },
    {
     "name": "stdout",
     "output_type": "stream",
     "text": [
      "Slice myo_timestamps and all data from 0 to 44473\n",
      "Fs before downsampling: 500.00000130810696\n",
      "Fs after downsampling: 250.00000065405348\n"
     ]
    },
    {
     "name": "stderr",
     "output_type": "stream",
     "text": [
      " 38%|███▊      | 3/8 [00:07<00:12,  2.42s/it]"
     ]
    },
    {
     "name": "stdout",
     "output_type": "stream",
     "text": [
      "Slice myo_timestamps and all data from 0 to 44463\n",
      "Fs before downsampling: 500.00000120115516\n",
      "Fs after downsampling: 250.00000060057758\n"
     ]
    },
    {
     "name": "stderr",
     "output_type": "stream",
     "text": [
      " 50%|█████     | 4/8 [00:09<00:09,  2.42s/it]"
     ]
    },
    {
     "name": "stdout",
     "output_type": "stream",
     "text": [
      "Slice myo_timestamps and all data from 0 to 44466\n",
      "Fs before downsampling: 500.00000096514884\n",
      "Fs after downsampling: 250.0000000750688\n"
     ]
    },
    {
     "name": "stderr",
     "output_type": "stream",
     "text": [
      " 62%|██████▎   | 5/8 [00:12<00:07,  2.43s/it]"
     ]
    },
    {
     "name": "stdout",
     "output_type": "stream",
     "text": [
      "Slice myo_timestamps and all data from 0 to 44470\n",
      "Fs before downsampling: 499.99999886337133\n",
      "Fs after downsampling: 249.99999969439014\n"
     ]
    },
    {
     "name": "stderr",
     "output_type": "stream",
     "text": [
      " 75%|███████▌  | 6/8 [00:14<00:04,  2.43s/it]"
     ]
    },
    {
     "name": "stdout",
     "output_type": "stream",
     "text": [
      "Slice myo_timestamps and all data from 0 to 44464\n",
      "Fs before downsampling: 500.00000067563457\n",
      "Fs after downsampling: 250.00000060057758\n"
     ]
    },
    {
     "name": "stderr",
     "output_type": "stream",
     "text": [
      " 88%|████████▊ | 7/8 [00:17<00:02,  2.43s/it]"
     ]
    },
    {
     "name": "stdout",
     "output_type": "stream",
     "text": [
      "Slice myo_timestamps and all data from 0 to 44463\n",
      "Fs before downsampling: 499.99999986058015\n",
      "Fs after downsampling: 249.99999993029007\n"
     ]
    },
    {
     "name": "stderr",
     "output_type": "stream",
     "text": [
      "100%|██████████| 8/8 [00:19<00:00,  2.43s/it]\n"
     ]
    },
    {
     "name": "stdout",
     "output_type": "stream",
     "text": [
      "Total len: 688\n"
     ]
    },
    {
     "name": "stderr",
     "output_type": "stream",
     "text": [
      "100%|██████████| 8/8 [01:16<00:00,  9.53s/it]\n"
     ]
    },
    {
     "name": "stdout",
     "output_type": "stream",
     "text": [
      "D:\\study\\myo\\emg-virtual\\data\\Fedor_Jan\\Raw\\Simple1\\5\n",
      "Number of moves: 8 | Dataset: Raw\n"
     ]
    },
    {
     "name": "stderr",
     "output_type": "stream",
     "text": [
      "  0%|          | 0/8 [00:00<?, ?it/s]"
     ]
    },
    {
     "name": "stdout",
     "output_type": "stream",
     "text": [
      "Slice myo_timestamps and all data from 0 to 44469\n",
      "Fs before downsampling: 499.9999993887803\n",
      "Fs after downsampling: 249.99999969439014\n"
     ]
    },
    {
     "name": "stderr",
     "output_type": "stream",
     "text": [
      " 12%|█▎        | 1/8 [00:02<00:16,  2.39s/it]"
     ]
    },
    {
     "name": "stdout",
     "output_type": "stream",
     "text": [
      "Slice myo_timestamps and all data from 0 to 44463\n",
      "Fs before downsampling: 500.00000120115516\n",
      "Fs after downsampling: 250.00000060057758\n"
     ]
    },
    {
     "name": "stderr",
     "output_type": "stream",
     "text": [
      " 25%|██▌       | 2/8 [00:04<00:14,  2.39s/it]"
     ]
    },
    {
     "name": "stdout",
     "output_type": "stream",
     "text": [
      "Slice myo_timestamps and all data from 0 to 44461\n",
      "Fs before downsampling: 500.00000091163196\n",
      "Fs after downsampling: 250.00000045581598\n"
     ]
    },
    {
     "name": "stderr",
     "output_type": "stream",
     "text": [
      " 38%|███▊      | 3/8 [00:07<00:11,  2.39s/it]"
     ]
    },
    {
     "name": "stdout",
     "output_type": "stream",
     "text": [
      "Slice myo_timestamps and all data from 0 to 44465\n",
      "Fs before downsampling: 500.0000001501376\n",
      "Fs after downsampling: 250.0000000750688\n"
     ]
    },
    {
     "name": "stderr",
     "output_type": "stream",
     "text": [
      " 50%|█████     | 4/8 [00:09<00:09,  2.39s/it]"
     ]
    },
    {
     "name": "stdout",
     "output_type": "stream",
     "text": [
      "Slice myo_timestamps and all data from 0 to 44463\n",
      "Fs before downsampling: 499.99999986058015\n",
      "Fs after downsampling: 249.99999993029007\n"
     ]
    },
    {
     "name": "stderr",
     "output_type": "stream",
     "text": [
      " 62%|██████▎   | 5/8 [00:11<00:07,  2.39s/it]"
     ]
    },
    {
     "name": "stdout",
     "output_type": "stream",
     "text": [
      "Slice myo_timestamps and all data from 0 to 44477\n",
      "Fs before downsampling: 499.9999992066294\n",
      "Fs after downsampling: 249.9999996033147\n"
     ]
    },
    {
     "name": "stderr",
     "output_type": "stream",
     "text": [
      " 75%|███████▌  | 6/8 [00:14<00:04,  2.39s/it]"
     ]
    },
    {
     "name": "stdout",
     "output_type": "stream",
     "text": [
      "Slice myo_timestamps and all data from 0 to 44462\n",
      "Fs before downsampling: 499.9999990454891\n",
      "Fs after downsampling: 249.99999978549835\n"
     ]
    },
    {
     "name": "stderr",
     "output_type": "stream",
     "text": [
      " 88%|████████▊ | 7/8 [00:16<00:02,  2.39s/it]"
     ]
    },
    {
     "name": "stdout",
     "output_type": "stream",
     "text": [
      "Slice myo_timestamps and all data from 0 to 44465\n",
      "Fs before downsampling: 499.999998809623\n",
      "Fs after downsampling: 249.9999994048115\n"
     ]
    },
    {
     "name": "stderr",
     "output_type": "stream",
     "text": [
      "100%|██████████| 8/8 [00:19<00:00,  2.39s/it]\n"
     ]
    },
    {
     "name": "stdout",
     "output_type": "stream",
     "text": [
      "Total len: 688\n"
     ]
    },
    {
     "name": "stderr",
     "output_type": "stream",
     "text": [
      "100%|██████████| 8/8 [01:15<00:00,  9.47s/it]\n"
     ]
    },
    {
     "name": "stdout",
     "output_type": "stream",
     "text": [
      "D:\\study\\myo\\emg-virtual\\data\\Fedor_Jan\\Raw\\Simple2\\1\n",
      "Number of moves: 8 | Dataset: Raw\n"
     ]
    },
    {
     "name": "stderr",
     "output_type": "stream",
     "text": [
      "  0%|          | 0/8 [00:00<?, ?it/s]"
     ]
    },
    {
     "name": "stdout",
     "output_type": "stream",
     "text": [
      "Slice myo_timestamps and all data from 0 to 44466\n",
      "Fs before downsampling: 500.00000096514884\n",
      "Fs after downsampling: 250.0000000750688\n"
     ]
    },
    {
     "name": "stderr",
     "output_type": "stream",
     "text": [
      " 12%|█▎        | 1/8 [00:02<00:17,  2.44s/it]"
     ]
    },
    {
     "name": "stdout",
     "output_type": "stream",
     "text": [
      "Slice myo_timestamps and all data from 0 to 44469\n",
      "Fs before downsampling: 500.0000007291744\n",
      "Fs after downsampling: 250.0000003645872\n"
     ]
    },
    {
     "name": "stderr",
     "output_type": "stream",
     "text": [
      " 25%|██▌       | 2/8 [00:04<00:14,  2.40s/it]"
     ]
    },
    {
     "name": "stdout",
     "output_type": "stream",
     "text": [
      "Slice myo_timestamps and all data from 0 to 44464\n",
      "Fs before downsampling: 499.9999993350898\n",
      "Fs after downsampling: 249.99999993029007\n"
     ]
    },
    {
     "name": "stderr",
     "output_type": "stream",
     "text": [
      " 38%|███▊      | 3/8 [00:07<00:12,  2.41s/it]"
     ]
    },
    {
     "name": "stdout",
     "output_type": "stream",
     "text": [
      "Slice myo_timestamps and all data from 0 to 44455\n",
      "Fs before downsampling: 500.0000000429061\n",
      "Fs after downsampling: 250.00000002145305\n"
     ]
    },
    {
     "name": "stderr",
     "output_type": "stream",
     "text": [
      " 50%|█████     | 4/8 [00:09<00:09,  2.40s/it]"
     ]
    },
    {
     "name": "stdout",
     "output_type": "stream",
     "text": [
      "Slice myo_timestamps and all data from 0 to 44468\n",
      "Fs before downsampling: 500.00000125463714\n",
      "Fs after downsampling: 250.0000002198345\n"
     ]
    },
    {
     "name": "stderr",
     "output_type": "stream",
     "text": [
      " 62%|██████▎   | 5/8 [00:12<00:07,  2.40s/it]"
     ]
    },
    {
     "name": "stdout",
     "output_type": "stream",
     "text": [
      "Slice myo_timestamps and all data from 0 to 44465\n",
      "Fs before downsampling: 500.0000001501376\n",
      "Fs after downsampling: 250.0000000750688\n"
     ]
    },
    {
     "name": "stderr",
     "output_type": "stream",
     "text": [
      " 75%|███████▌  | 6/8 [00:14<00:04,  2.41s/it]"
     ]
    },
    {
     "name": "stdout",
     "output_type": "stream",
     "text": [
      "Slice myo_timestamps and all data from 0 to 44470\n",
      "Fs before downsampling: 500.00000020373534\n",
      "Fs after downsampling: 249.99999969439014\n"
     ]
    },
    {
     "name": "stderr",
     "output_type": "stream",
     "text": [
      " 88%|████████▊ | 7/8 [00:16<00:02,  2.40s/it]"
     ]
    },
    {
     "name": "stdout",
     "output_type": "stream",
     "text": [
      "Slice myo_timestamps and all data from 0 to 44460\n",
      "Fs before downsampling: 500.0000000965279\n",
      "Fs after downsampling: 249.9999996406936\n"
     ]
    },
    {
     "name": "stderr",
     "output_type": "stream",
     "text": [
      "100%|██████████| 8/8 [00:19<00:00,  2.40s/it]\n"
     ]
    },
    {
     "name": "stdout",
     "output_type": "stream",
     "text": [
      "Total len: 688\n"
     ]
    },
    {
     "name": "stderr",
     "output_type": "stream",
     "text": [
      "100%|██████████| 8/8 [01:16<00:00,  9.60s/it]\n"
     ]
    },
    {
     "name": "stdout",
     "output_type": "stream",
     "text": [
      "D:\\study\\myo\\emg-virtual\\data\\Fedor_Jan\\Raw\\Simple2\\2\n",
      "Number of moves: 8 | Dataset: Raw\n"
     ]
    },
    {
     "name": "stderr",
     "output_type": "stream",
     "text": [
      "  0%|          | 0/8 [00:00<?, ?it/s]"
     ]
    },
    {
     "name": "stdout",
     "output_type": "stream",
     "text": [
      "Slice myo_timestamps and all data from 0 to 44465\n",
      "Fs before downsampling: 500.0000001501376\n",
      "Fs after downsampling: 250.0000000750688\n"
     ]
    },
    {
     "name": "stderr",
     "output_type": "stream",
     "text": [
      " 12%|█▎        | 1/8 [00:02<00:16,  2.41s/it]"
     ]
    },
    {
     "name": "stdout",
     "output_type": "stream",
     "text": [
      "Slice myo_timestamps and all data from 0 to 44452\n",
      "Fs before downsampling: 499.99999893800185\n",
      "Fs after downsampling: 249.9999997318126\n"
     ]
    },
    {
     "name": "stderr",
     "output_type": "stream",
     "text": [
      " 25%|██▌       | 2/8 [00:04<00:14,  2.41s/it]"
     ]
    },
    {
     "name": "stdout",
     "output_type": "stream",
     "text": [
      "Slice myo_timestamps and all data from 0 to 44473\n",
      "Fs before downsampling: 499.99999996783345\n",
      "Fs after downsampling: 249.99999998391672\n"
     ]
    },
    {
     "name": "stderr",
     "output_type": "stream",
     "text": [
      " 38%|███▊      | 3/8 [00:07<00:12,  2.51s/it]"
     ]
    },
    {
     "name": "stdout",
     "output_type": "stream",
     "text": [
      "Slice myo_timestamps and all data from 0 to 44467\n",
      "Fs before downsampling: 500.000000439669\n",
      "Fs after downsampling: 250.0000002198345\n"
     ]
    },
    {
     "name": "stderr",
     "output_type": "stream",
     "text": [
      " 50%|█████     | 4/8 [00:09<00:09,  2.49s/it]"
     ]
    },
    {
     "name": "stdout",
     "output_type": "stream",
     "text": [
      "Slice myo_timestamps and all data from 0 to 44466\n",
      "Fs before downsampling: 500.00000096514884\n",
      "Fs after downsampling: 250.0000000750688\n"
     ]
    },
    {
     "name": "stderr",
     "output_type": "stream",
     "text": [
      " 62%|██████▎   | 5/8 [00:12<00:07,  2.49s/it]"
     ]
    },
    {
     "name": "stdout",
     "output_type": "stream",
     "text": [
      "Slice myo_timestamps and all data from 0 to 44467\n",
      "Fs before downsampling: 500.000000439669\n",
      "Fs after downsampling: 250.0000002198345\n"
     ]
    },
    {
     "name": "stderr",
     "output_type": "stream",
     "text": [
      " 75%|███████▌  | 6/8 [00:14<00:04,  2.46s/it]"
     ]
    },
    {
     "name": "stdout",
     "output_type": "stream",
     "text": [
      "Slice myo_timestamps and all data from 0 to 44468\n",
      "Fs before downsampling: 499.9999999142128\n",
      "Fs after downsampling: 250.0000002198345\n"
     ]
    },
    {
     "name": "stderr",
     "output_type": "stream",
     "text": [
      " 88%|████████▊ | 7/8 [00:17<00:02,  2.45s/it]"
     ]
    },
    {
     "name": "stdout",
     "output_type": "stream",
     "text": [
      "Slice myo_timestamps and all data from 0 to 44463\n",
      "Fs before downsampling: 499.99999986058015\n",
      "Fs after downsampling: 249.99999993029007\n"
     ]
    },
    {
     "name": "stderr",
     "output_type": "stream",
     "text": [
      "100%|██████████| 8/8 [00:19<00:00,  2.45s/it]\n"
     ]
    },
    {
     "name": "stdout",
     "output_type": "stream",
     "text": [
      "Total len: 688\n"
     ]
    },
    {
     "name": "stderr",
     "output_type": "stream",
     "text": [
      "100%|██████████| 8/8 [01:15<00:00,  9.43s/it]\n"
     ]
    },
    {
     "name": "stdout",
     "output_type": "stream",
     "text": [
      "D:\\study\\myo\\emg-virtual\\data\\Fedor_Jan\\Raw\\Simple2\\3\n",
      "Number of moves: 8 | Dataset: Raw\n"
     ]
    },
    {
     "name": "stderr",
     "output_type": "stream",
     "text": [
      "  0%|          | 0/8 [00:00<?, ?it/s]"
     ]
    },
    {
     "name": "stdout",
     "output_type": "stream",
     "text": [
      "Slice myo_timestamps and all data from 0 to 44475\n",
      "Fs before downsampling: 500.00000025732095\n",
      "Fs after downsampling: 250.00000012866047\n"
     ]
    },
    {
     "name": "stderr",
     "output_type": "stream",
     "text": [
      " 12%|█▎        | 1/8 [00:02<00:16,  2.39s/it]"
     ]
    },
    {
     "name": "stdout",
     "output_type": "stream",
     "text": [
      "Slice myo_timestamps and all data from 0 to 44465\n",
      "Fs before downsampling: 500.0000001501376\n",
      "Fs after downsampling: 250.0000000750688\n"
     ]
    },
    {
     "name": "stderr",
     "output_type": "stream",
     "text": [
      " 25%|██▌       | 2/8 [00:04<00:14,  2.38s/it]"
     ]
    },
    {
     "name": "stdout",
     "output_type": "stream",
     "text": [
      "Slice myo_timestamps and all data from 0 to 44471\n",
      "Fs before downsampling: 500.0000010186537\n",
      "Fs after downsampling: 250.00000050932684\n"
     ]
    },
    {
     "name": "stderr",
     "output_type": "stream",
     "text": [
      " 38%|███▊      | 3/8 [00:07<00:12,  2.41s/it]"
     ]
    },
    {
     "name": "stdout",
     "output_type": "stream",
     "text": [
      "Slice myo_timestamps and all data from 0 to 44466\n",
      "Fs before downsampling: 499.9999996246644\n",
      "Fs after downsampling: 250.0000000750688\n"
     ]
    },
    {
     "name": "stderr",
     "output_type": "stream",
     "text": [
      " 50%|█████     | 4/8 [00:09<00:09,  2.40s/it]"
     ]
    },
    {
     "name": "stdout",
     "output_type": "stream",
     "text": [
      "Slice myo_timestamps and all data from 0 to 44469\n",
      "Fs before downsampling: 500.0000007291744\n",
      "Fs after downsampling: 250.0000003645872\n"
     ]
    },
    {
     "name": "stderr",
     "output_type": "stream",
     "text": [
      " 62%|██████▎   | 5/8 [00:12<00:07,  2.40s/it]"
     ]
    },
    {
     "name": "stdout",
     "output_type": "stream",
     "text": [
      "Slice myo_timestamps and all data from 0 to 44461\n",
      "Fs before downsampling: 499.9999995709967\n",
      "Fs after downsampling: 249.99999978549835\n"
     ]
    },
    {
     "name": "stderr",
     "output_type": "stream",
     "text": [
      " 75%|███████▌  | 6/8 [00:14<00:04,  2.40s/it]"
     ]
    },
    {
     "name": "stdout",
     "output_type": "stream",
     "text": [
      "Slice myo_timestamps and all data from 0 to 44469\n",
      "Fs before downsampling: 499.9999993887803\n",
      "Fs after downsampling: 249.99999969439014\n"
     ]
    },
    {
     "name": "stderr",
     "output_type": "stream",
     "text": [
      " 88%|████████▊ | 7/8 [00:16<00:02,  2.40s/it]"
     ]
    },
    {
     "name": "stdout",
     "output_type": "stream",
     "text": [
      "Slice myo_timestamps and all data from 0 to 44454\n",
      "Fs before downsampling: 500.00000056851883\n",
      "Fs after downsampling: 249.99999987663935\n"
     ]
    },
    {
     "name": "stderr",
     "output_type": "stream",
     "text": [
      "100%|██████████| 8/8 [00:19<00:00,  2.40s/it]\n"
     ]
    },
    {
     "name": "stdout",
     "output_type": "stream",
     "text": [
      "Total len: 688\n"
     ]
    },
    {
     "name": "stderr",
     "output_type": "stream",
     "text": [
      "100%|██████████| 8/8 [01:16<00:00,  9.60s/it]\n"
     ]
    },
    {
     "name": "stdout",
     "output_type": "stream",
     "text": [
      "D:\\study\\myo\\emg-virtual\\data\\Fedor_Jan\\Raw\\Simple2\\4\n",
      "Number of moves: 8 | Dataset: Raw\n"
     ]
    },
    {
     "name": "stderr",
     "output_type": "stream",
     "text": [
      "  0%|          | 0/8 [00:00<?, ?it/s]"
     ]
    },
    {
     "name": "stdout",
     "output_type": "stream",
     "text": [
      "Slice myo_timestamps and all data from 0 to 44466\n",
      "Fs before downsampling: 499.9999996246644\n",
      "Fs after downsampling: 250.0000000750688\n"
     ]
    },
    {
     "name": "stderr",
     "output_type": "stream",
     "text": [
      " 12%|█▎        | 1/8 [00:02<00:17,  2.45s/it]"
     ]
    },
    {
     "name": "stdout",
     "output_type": "stream",
     "text": [
      "Slice myo_timestamps and all data from 0 to 44468\n",
      "Fs before downsampling: 499.9999999142128\n",
      "Fs after downsampling: 250.0000002198345\n"
     ]
    },
    {
     "name": "stderr",
     "output_type": "stream",
     "text": [
      " 25%|██▌       | 2/8 [00:04<00:14,  2.45s/it]"
     ]
    },
    {
     "name": "stdout",
     "output_type": "stream",
     "text": [
      "Slice myo_timestamps and all data from 0 to 44464\n",
      "Fs before downsampling: 500.00000067563457\n",
      "Fs after downsampling: 250.00000060057758\n"
     ]
    },
    {
     "name": "stderr",
     "output_type": "stream",
     "text": [
      " 38%|███▊      | 3/8 [00:07<00:12,  2.45s/it]"
     ]
    },
    {
     "name": "stdout",
     "output_type": "stream",
     "text": [
      "Slice myo_timestamps and all data from 0 to 44462\n",
      "Fs before downsampling: 500.00000038609426\n",
      "Fs after downsampling: 249.99999978549835\n"
     ]
    },
    {
     "name": "stderr",
     "output_type": "stream",
     "text": [
      " 50%|█████     | 4/8 [00:09<00:09,  2.48s/it]"
     ]
    },
    {
     "name": "stdout",
     "output_type": "stream",
     "text": [
      "Slice myo_timestamps and all data from 0 to 44455\n",
      "Fs before downsampling: 500.0000000429061\n",
      "Fs after downsampling: 250.00000002145305\n"
     ]
    },
    {
     "name": "stderr",
     "output_type": "stream",
     "text": [
      " 62%|██████▎   | 5/8 [00:12<00:07,  2.47s/it]"
     ]
    },
    {
     "name": "stdout",
     "output_type": "stream",
     "text": [
      "Slice myo_timestamps and all data from 0 to 44463\n",
      "Fs before downsampling: 500.00000120115516\n",
      "Fs after downsampling: 250.00000060057758\n"
     ]
    },
    {
     "name": "stderr",
     "output_type": "stream",
     "text": [
      " 75%|███████▌  | 6/8 [00:14<00:04,  2.45s/it]"
     ]
    },
    {
     "name": "stdout",
     "output_type": "stream",
     "text": [
      "Slice myo_timestamps and all data from 0 to 44464\n",
      "Fs before downsampling: 499.9999993350898\n",
      "Fs after downsampling: 249.99999993029007\n"
     ]
    },
    {
     "name": "stderr",
     "output_type": "stream",
     "text": [
      " 88%|████████▊ | 7/8 [00:17<00:02,  2.45s/it]"
     ]
    },
    {
     "name": "stdout",
     "output_type": "stream",
     "text": [
      "Slice myo_timestamps and all data from 0 to 44462\n",
      "Fs before downsampling: 499.9999990454891\n",
      "Fs after downsampling: 249.99999978549835\n"
     ]
    },
    {
     "name": "stderr",
     "output_type": "stream",
     "text": [
      "100%|██████████| 8/8 [00:19<00:00,  2.45s/it]\n"
     ]
    },
    {
     "name": "stdout",
     "output_type": "stream",
     "text": [
      "Total len: 688\n"
     ]
    },
    {
     "name": "stderr",
     "output_type": "stream",
     "text": [
      "100%|██████████| 8/8 [01:17<00:00,  9.66s/it]\n"
     ]
    },
    {
     "name": "stdout",
     "output_type": "stream",
     "text": [
      "D:\\study\\myo\\emg-virtual\\data\\Fedor_Jan\\Raw\\Simple2\\5\n",
      "Number of moves: 6 | Dataset: Raw\n"
     ]
    },
    {
     "name": "stderr",
     "output_type": "stream",
     "text": [
      "  0%|          | 0/6 [00:00<?, ?it/s]"
     ]
    },
    {
     "name": "stdout",
     "output_type": "stream",
     "text": [
      "Slice myo_timestamps and all data from 0 to 44463\n",
      "Fs before downsampling: 499.99999986058015\n",
      "Fs after downsampling: 249.99999993029007\n"
     ]
    },
    {
     "name": "stderr",
     "output_type": "stream",
     "text": [
      " 17%|█▋        | 1/6 [00:02<00:12,  2.43s/it]"
     ]
    },
    {
     "name": "stdout",
     "output_type": "stream",
     "text": [
      "Slice myo_timestamps and all data from 0 to 44470\n",
      "Fs before downsampling: 500.00000020373534\n",
      "Fs after downsampling: 250.0000003645872\n"
     ]
    },
    {
     "name": "stderr",
     "output_type": "stream",
     "text": [
      " 33%|███▎      | 2/6 [00:04<00:09,  2.42s/it]"
     ]
    },
    {
     "name": "stdout",
     "output_type": "stream",
     "text": [
      "Slice myo_timestamps and all data from 0 to 44460\n",
      "Fs before downsampling: 500.0000000965279\n",
      "Fs after downsampling: 249.9999996406936\n"
     ]
    },
    {
     "name": "stderr",
     "output_type": "stream",
     "text": [
      " 50%|█████     | 3/6 [00:07<00:07,  2.41s/it]"
     ]
    },
    {
     "name": "stdout",
     "output_type": "stream",
     "text": [
      "Slice myo_timestamps and all data from 0 to 44462\n",
      "Fs before downsampling: 500.00000038609426\n",
      "Fs after downsampling: 250.00000045581598\n"
     ]
    },
    {
     "name": "stderr",
     "output_type": "stream",
     "text": [
      " 67%|██████▋   | 4/6 [00:09<00:04,  2.41s/it]"
     ]
    },
    {
     "name": "stdout",
     "output_type": "stream",
     "text": [
      "Slice myo_timestamps and all data from 0 to 44462\n",
      "Fs before downsampling: 500.00000038609426\n",
      "Fs after downsampling: 249.99999978549835\n"
     ]
    },
    {
     "name": "stderr",
     "output_type": "stream",
     "text": [
      " 83%|████████▎ | 5/6 [00:12<00:02,  2.41s/it]"
     ]
    },
    {
     "name": "stdout",
     "output_type": "stream",
     "text": [
      "Slice myo_timestamps and all data from 0 to 44456\n",
      "Fs before downsampling: 499.99999951731695\n",
      "Fs after downsampling: 250.00000002145305\n"
     ]
    },
    {
     "name": "stderr",
     "output_type": "stream",
     "text": [
      "100%|██████████| 6/6 [00:14<00:00,  2.41s/it]\n"
     ]
    },
    {
     "name": "stdout",
     "output_type": "stream",
     "text": [
      "Total len: 516\n"
     ]
    },
    {
     "name": "stderr",
     "output_type": "stream",
     "text": [
      "100%|██████████| 6/6 [00:57<00:00,  9.55s/it]\n"
     ]
    }
   ],
   "source": [
    "ROOT_DIR = Path(\"D:\\\\study\\\\myo\\\\emg-virtual\\\\data\\\\Fedor_Jan\\\\Raw\\\\\")\n",
    "DATASET_NAMES = [\"Simple1\", \"Simple2\"]\n",
    "dataset_paths = [ROOT_DIR / Path(n) for n in DATASET_NAMES]\n",
    "\n",
    "ALL_PATHS = []\n",
    "for dp in dataset_paths:\n",
    "    ALL_PATHS.extend(get_subdirs(dp))\n",
    "\n",
    "print(\"ALL_PATHS: \", ALL_PATHS)\n",
    "print(\"Number of paths: \", len(ALL_PATHS))\n",
    "\n",
    "for path in ALL_PATHS:\n",
    "    print(path)\n",
    "    sorted_pth = sorted(path.glob(\"*.npz\"))\n",
    "    sorted_pth = natsorted(sorted_pth)\n",
    "\n",
    "    dataset = data_utils.create_dataset(\n",
    "        data_folder=path,\n",
    "        original_fps=config.original_fps,\n",
    "        delay_ms=config.delay_ms,\n",
    "        start_crop_ms=config.start_crop_ms,\n",
    "        window_size=config.window_size,\n",
    "        random_sampling=False,\n",
    "        transform=None,\n",
    "    )\n",
    "\n",
    "    n_channels = 8\n",
    "    for idx, exp_data in enumerate(tqdm(dataset.exps_data)):\n",
    "        # select informative EMG channels\n",
    "        exp_data[\"data_myo\"] = exp_data[\"data_myo\"][:, :n_channels]\n",
    "\n",
    "        # convert vr to angles\n",
    "        exp_data[\"data_angles\"] = get_angles(exp_data[\"data_vr\"])\n",
    "\n",
    "        # save\n",
    "        np.savez(\n",
    "            f\"D:\\\\study\\\\myo\\\\emg-virtual\\\\data\\\\Fedor_Jan\\\\Preprocessed\\\\{path.parent.name}_{path.name}_{idx:04d}.npz\",\n",
    "            **exp_data,\n",
    "        )"
   ]
  },
  {
   "cell_type": "code",
   "execution_count": null,
   "id": "e26e1486",
   "metadata": {},
   "outputs": [],
   "source": [
    "n_channels = 8\n",
    "\n",
    "for idx, exp_data in enumerate(tqdm(dataset.exps_data)):\n",
    "    # select informative EMG channels\n",
    "    exp_data[\"data_myo\"] = exp_data[\"data_myo\"][:, :n_channels]\n",
    "\n",
    "    # convert vr to angles\n",
    "    exp_data[\"data_angles\"] = get_angles(exp_data[\"data_vr\"])\n",
    "\n",
    "    # save\n",
    "    np.savez(\n",
    "        f\"D:\\\\study\\\\myo\\\\emg-virtual\\\\data\\\\Fedor\\\\Preprocessed\\\\1\\\\{idx:04d}.npz\",\n",
    "        **exp_data,\n",
    "    )"
   ]
  },
  {
   "cell_type": "markdown",
   "id": "ac4f3faa",
   "metadata": {},
   "source": [
    "Bad preproc"
   ]
  },
  {
   "cell_type": "code",
   "execution_count": null,
   "id": "47f804cd",
   "metadata": {},
   "outputs": [],
   "source": [
    "ROOT_DIR = Path(\"D:\\\\study\\\\myo\\\\emg-virtual\\\\data\\\\Fedor\\\\\")\n",
    "DATASET_NAMES = [\"Raw\"]\n",
    "\n",
    "Nch_target = 6\n",
    "\n",
    "dataset_paths = [ROOT_DIR / Path(n) for n in DATASET_NAMES]\n",
    "print(dataset_paths)\n",
    "ALL_PATHS = []\n",
    "for dp in dataset_paths:\n",
    "    ALL_PATHS.extend(get_subdirs(dp))\n",
    "\n",
    "print(\"ALL_PATHS: \", ALL_PATHS)\n",
    "print(\"Number of paths: \", len(ALL_PATHS))\n",
    "\n",
    "\n",
    "# Preprocess all datasets for angles extraction.\n",
    "\n",
    "for path in ALL_PATHS:\n",
    "    sorted_pth = sorted(path.glob(\"*.npz\"))\n",
    "    sorted_pth = natsorted(sorted_pth)\n",
    "\n",
    "    # if use_preproc_data == True:\n",
    "    #    exps_data = [dict(np.load(d)) for d in all_paths]\n",
    "\n",
    "    dataset = data_utils.create_dataset(\n",
    "        data_folder=path,\n",
    "        original_fps=config.original_fps,\n",
    "        delay_ms=config.delay_ms,\n",
    "        start_crop_ms=config.start_crop_ms,\n",
    "        window_size=config.window_size,\n",
    "        random_sampling=False,\n",
    "        transform=None,\n",
    "    )\n",
    "\n",
    "    if len(dataset) == 0:\n",
    "        print(\"WWWWW: Problem with dataset\")\n",
    "        break\n",
    "\n",
    "    my_myo_list = list()\n",
    "\n",
    "    # go through each move and get angles and save.\n",
    "    for idx, move in tqdm(enumerate(dataset.exps_data)):\n",
    "\n",
    "        my_myo = np.load(sorted_pth[idx])[\"data_myo\"]\n",
    "        my_myo = my_myo[: len(move[\"data_myo\"])]\n",
    "\n",
    "        my_myo_list.append(my_myo)\n",
    "\n",
    "        std_coef = np.std(my_myo, axis=0, keepdims=True)\n",
    "        print(std_coef)\n",
    "\n",
    "    my_myo_list = np.concatenate(my_myo_list)\n",
    "    std_coef = np.std(my_myo_list, axis=0, keepdims=True)\n",
    "\n",
    "    # std_coef_1 = my_myo_list[:len(my_myo_list)//2]\n",
    "    # std_coef_2 = my_myo_list[len(my_myo_list)//2:]\n",
    "\n",
    "    # print(std_coef_1,std_coef_2)\n",
    "\n",
    "    # go through each move and get angles and save.\n",
    "    for idx, move in tqdm(enumerate(dataset.exps_data)):\n",
    "\n",
    "        my_myo = np.load(sorted_pth[idx])[\"data_myo\"]\n",
    "\n",
    "        my_myo_norm = my_myo[:, :Nch_target] / std_coef[:, :Nch_target]\n",
    "\n",
    "        my_myo_norm = my_myo_norm[: len(move[\"data_myo\"])]\n",
    "\n",
    "        ts, myo, vr = move[\"myo_ts\"], my_myo_norm, move[\"data_vr\"]\n",
    "        angles = get_angles(vr)\n",
    "\n",
    "        new_path = path.parents[0] / Path(\"Bad_Preprocessed\") / Path(path.name)\n",
    "        new_path.mkdir(parents=True, exist_ok=True)\n",
    "\n",
    "        filename = f\"{idx:04d}.npz\"\n",
    "        filepath = new_path / filename\n",
    "\n",
    "        np.savez(\n",
    "            filepath,\n",
    "            data_myo=myo,\n",
    "            data_vr=vr,\n",
    "            data_angles=angles,\n",
    "            myo_ts=ts,\n",
    "            std_coef=std_coef,\n",
    "        )"
   ]
  },
  {
   "cell_type": "code",
   "execution_count": null,
   "id": "dbd37d13",
   "metadata": {},
   "outputs": [],
   "source": [
    "ROOT_DIR = Path(\"D:\\\\study\\\\myo\\\\emg-virtual\\\\data\\\\Fedor\\\\\")\n",
    "DATASET_NAMES = [\"Raw\"]\n",
    "dataset_paths = [ROOT_DIR / Path(n) for n in DATASET_NAMES]\n",
    "print(dataset_paths)\n",
    "\n",
    "ALL_PATHS = []\n",
    "for dp in dataset_paths:\n",
    "    ALL_PATHS.extend(get_subdirs(dp))\n",
    "\n",
    "print(\"ALL_PATHS: \", ALL_PATHS)\n",
    "print(\"Number of paths: \", len(ALL_PATHS))\n",
    "\n",
    "path = ALL_PATHS[0]\n",
    "sorted_pth = sorted(path.glob(\"*.npz\"))\n",
    "sorted_pth = natsorted(sorted_pth)\n",
    "\n",
    "dataset = data_utils.create_dataset(\n",
    "    data_folder=path,\n",
    "    original_fps=config.original_fps,\n",
    "    delay_ms=config.delay_ms,\n",
    "    start_crop_ms=config.start_crop_ms,\n",
    "    window_size=config.window_size,\n",
    "    random_sampling=False,\n",
    "    transform=None,\n",
    ")"
   ]
  },
  {
   "cell_type": "markdown",
   "id": "8a693e01",
   "metadata": {},
   "source": [
    "Amputee. Alexander Chevcov"
   ]
  },
  {
   "cell_type": "code",
   "execution_count": 11,
   "id": "f9c07b24",
   "metadata": {},
   "outputs": [
    {
     "name": "stdout",
     "output_type": "stream",
     "text": [
      "ALL_PATHS:  [WindowsPath('D:/study/myo/emg-virtual/data/Alexander Chevcov/Raw/Simple1'), WindowsPath('D:/study/myo/emg-virtual/data/Alexander Chevcov/Raw/Simple2'), WindowsPath('D:/study/myo/emg-virtual/data/Alexander Chevcov/Raw/Simple3')]\n",
      "Number of paths:  3\n",
      "D:\\study\\myo\\emg-virtual\\data\\Alexander Chevcov\\Raw\\Simple1\n",
      "Number of moves: 8 | Dataset: Alexander Chevcov\n"
     ]
    },
    {
     "name": "stderr",
     "output_type": "stream",
     "text": [
      "  0%|          | 0/8 [00:00<?, ?it/s]"
     ]
    },
    {
     "name": "stdout",
     "output_type": "stream",
     "text": [
      "Slice myo_timestamps and all data from 0 to 44449\n",
      "Fs before downsampling: 499.9999991739457\n",
      "Fs after downsampling: 249.99999958697285\n"
     ]
    },
    {
     "name": "stderr",
     "output_type": "stream",
     "text": [
      " 12%|█▎        | 1/8 [00:02<00:16,  2.43s/it]"
     ]
    },
    {
     "name": "stdout",
     "output_type": "stream",
     "text": [
      "Slice myo_timestamps and all data from 0 to 44446\n",
      "Fs before downsampling: 500.00000075100917\n",
      "Fs after downsampling: 249.99999996781318\n"
     ]
    },
    {
     "name": "stderr",
     "output_type": "stream",
     "text": [
      " 25%|██▌       | 2/8 [00:04<00:14,  2.45s/it]"
     ]
    },
    {
     "name": "stdout",
     "output_type": "stream",
     "text": [
      "Slice myo_timestamps and all data from 0 to 44448\n",
      "Fs before downsampling: 499.9999996996099\n",
      "Fs after downsampling: 250.00000011264882\n"
     ]
    },
    {
     "name": "stderr",
     "output_type": "stream",
     "text": [
      " 38%|███▊      | 3/8 [00:07<00:12,  2.44s/it]"
     ]
    },
    {
     "name": "stdout",
     "output_type": "stream",
     "text": [
      "Slice myo_timestamps and all data from 0 to 44416\n",
      "Fs before downsampling: 500.00000042943793\n",
      "Fs after downsampling: 250.00000047776047\n"
     ]
    },
    {
     "name": "stderr",
     "output_type": "stream",
     "text": [
      " 50%|█████     | 4/8 [00:09<00:09,  2.44s/it]"
     ]
    },
    {
     "name": "stdout",
     "output_type": "stream",
     "text": [
      "Slice myo_timestamps and all data from 0 to 44392\n",
      "Fs before downsampling: 499.9999996347804\n",
      "Fs after downsampling: 250.00000008056494\n"
     ]
    },
    {
     "name": "stderr",
     "output_type": "stream",
     "text": [
      " 62%|██████▎   | 5/8 [00:12<00:07,  2.44s/it]"
     ]
    },
    {
     "name": "stdout",
     "output_type": "stream",
     "text": [
      "Slice myo_timestamps and all data from 0 to 44495\n",
      "Fs before downsampling: 500.00000047154305\n",
      "Fs after downsampling: 250.00000023577152\n"
     ]
    },
    {
     "name": "stderr",
     "output_type": "stream",
     "text": [
      " 75%|███████▌  | 6/8 [00:14<00:04,  2.46s/it]"
     ]
    },
    {
     "name": "stdout",
     "output_type": "stream",
     "text": [
      "Slice myo_timestamps and all data from 0 to 44429\n",
      "Fs before downsampling: 499.99999895891773\n",
      "Fs after downsampling: 249.99999947945886\n"
     ]
    },
    {
     "name": "stderr",
     "output_type": "stream",
     "text": [
      " 88%|████████▊ | 7/8 [00:17<00:02,  2.46s/it]"
     ]
    },
    {
     "name": "stdout",
     "output_type": "stream",
     "text": [
      "Slice myo_timestamps and all data from 0 to 44489\n",
      "Fs before downsampling: 499.9999996034217\n",
      "Fs after downsampling: 249.99999980171086\n"
     ]
    },
    {
     "name": "stderr",
     "output_type": "stream",
     "text": [
      "100%|██████████| 8/8 [00:19<00:00,  2.46s/it]\n"
     ]
    },
    {
     "name": "stdout",
     "output_type": "stream",
     "text": [
      "Total len: 688\n"
     ]
    },
    {
     "name": "stderr",
     "output_type": "stream",
     "text": [
      "100%|██████████| 8/8 [01:18<00:00,  9.78s/it]\n"
     ]
    },
    {
     "name": "stdout",
     "output_type": "stream",
     "text": [
      "D:\\study\\myo\\emg-virtual\\data\\Alexander Chevcov\\Raw\\Simple2\n",
      "Number of moves: 8 | Dataset: Alexander Chevcov\n"
     ]
    },
    {
     "name": "stderr",
     "output_type": "stream",
     "text": [
      "  0%|          | 0/8 [00:00<?, ?it/s]"
     ]
    },
    {
     "name": "stdout",
     "output_type": "stream",
     "text": [
      "Slice myo_timestamps and all data from 0 to 44453\n",
      "Fs before downsampling: 499.9999997532787\n",
      "Fs after downsampling: 249.99999987663935\n"
     ]
    },
    {
     "name": "stderr",
     "output_type": "stream",
     "text": [
      " 12%|█▎        | 1/8 [00:02<00:16,  2.42s/it]"
     ]
    },
    {
     "name": "stdout",
     "output_type": "stream",
     "text": [
      "Slice myo_timestamps and all data from 0 to 44457\n",
      "Fs before downsampling: 500.00000033250745\n",
      "Fs after downsampling: 250.00000016625373\n"
     ]
    },
    {
     "name": "stderr",
     "output_type": "stream",
     "text": [
      " 25%|██▌       | 2/8 [00:04<00:14,  2.43s/it]"
     ]
    },
    {
     "name": "stdout",
     "output_type": "stream",
     "text": [
      "Slice myo_timestamps and all data from 0 to 44412\n",
      "Fs before downsampling: 499.99999984968315\n",
      "Fs after downsampling: 249.9999995168279\n"
     ]
    },
    {
     "name": "stderr",
     "output_type": "stream",
     "text": [
      " 38%|███▊      | 3/8 [00:07<00:12,  2.44s/it]"
     ]
    },
    {
     "name": "stdout",
     "output_type": "stream",
     "text": [
      "Slice myo_timestamps and all data from 0 to 44457\n",
      "Fs before downsampling: 500.00000033250745\n",
      "Fs after downsampling: 250.00000016625373\n"
     ]
    },
    {
     "name": "stderr",
     "output_type": "stream",
     "text": [
      " 50%|█████     | 4/8 [00:09<00:09,  2.44s/it]"
     ]
    },
    {
     "name": "stdout",
     "output_type": "stream",
     "text": [
      "Slice myo_timestamps and all data from 0 to 44439\n",
      "Fs before downsampling: 499.9999990664559\n",
      "Fs after downsampling: 249.99999953322796\n"
     ]
    },
    {
     "name": "stderr",
     "output_type": "stream",
     "text": [
      " 62%|██████▎   | 5/8 [00:12<00:07,  2.45s/it]"
     ]
    },
    {
     "name": "stdout",
     "output_type": "stream",
     "text": [
      "Slice myo_timestamps and all data from 0 to 44484\n",
      "Fs before downsampling: 499.9999995497794\n",
      "Fs after downsampling: 250.00000003751924\n"
     ]
    },
    {
     "name": "stderr",
     "output_type": "stream",
     "text": [
      " 75%|███████▌  | 6/8 [00:14<00:04,  2.45s/it]"
     ]
    },
    {
     "name": "stdout",
     "output_type": "stream",
     "text": [
      "Slice myo_timestamps and all data from 0 to 44411\n",
      "Fs before downsampling: 500.0000003758005\n",
      "Fs after downsampling: 250.00000018790024\n"
     ]
    },
    {
     "name": "stderr",
     "output_type": "stream",
     "text": [
      " 88%|████████▊ | 7/8 [00:17<00:02,  2.45s/it]"
     ]
    },
    {
     "name": "stdout",
     "output_type": "stream",
     "text": [
      "Slice myo_timestamps and all data from 0 to 44460\n",
      "Fs before downsampling: 500.0000000965279\n",
      "Fs after downsampling: 250.0000003110414\n"
     ]
    },
    {
     "name": "stderr",
     "output_type": "stream",
     "text": [
      "100%|██████████| 8/8 [00:19<00:00,  2.44s/it]\n"
     ]
    },
    {
     "name": "stdout",
     "output_type": "stream",
     "text": [
      "Total len: 688\n"
     ]
    },
    {
     "name": "stderr",
     "output_type": "stream",
     "text": [
      "100%|██████████| 8/8 [01:18<00:00,  9.77s/it]\n"
     ]
    },
    {
     "name": "stdout",
     "output_type": "stream",
     "text": [
      "D:\\study\\myo\\emg-virtual\\data\\Alexander Chevcov\\Raw\\Simple3\n",
      "Number of moves: 8 | Dataset: Alexander Chevcov\n"
     ]
    },
    {
     "name": "stderr",
     "output_type": "stream",
     "text": [
      "  0%|          | 0/8 [00:00<?, ?it/s]"
     ]
    },
    {
     "name": "stdout",
     "output_type": "stream",
     "text": [
      "Slice myo_timestamps and all data from 0 to 43487\n",
      "Fs before downsampling: 488.8594105027863\n",
      "Fs after downsampling: 244.42970525139316\n"
     ]
    },
    {
     "name": "stderr",
     "output_type": "stream",
     "text": [
      " 12%|█▎        | 1/8 [00:02<00:16,  2.40s/it]"
     ]
    },
    {
     "name": "stdout",
     "output_type": "stream",
     "text": [
      "Slice myo_timestamps and all data from 0 to 44709\n",
      "Fs before downsampling: 499.99999928540547\n",
      "Fs after downsampling: 249.99999964270273\n"
     ]
    },
    {
     "name": "stderr",
     "output_type": "stream",
     "text": [
      " 25%|██▌       | 2/8 [00:04<00:14,  2.45s/it]"
     ]
    },
    {
     "name": "stdout",
     "output_type": "stream",
     "text": [
      "Slice myo_timestamps and all data from 0 to 44395\n",
      "Fs before downsampling: 499.9999993985025\n",
      "Fs after downsampling: 249.99999969925125\n"
     ]
    },
    {
     "name": "stderr",
     "output_type": "stream",
     "text": [
      " 38%|███▊      | 3/8 [00:07<00:12,  2.44s/it]"
     ]
    },
    {
     "name": "stdout",
     "output_type": "stream",
     "text": [
      "Slice myo_timestamps and all data from 0 to 44374\n",
      "Fs before downsampling: 499.99999970985505\n",
      "Fs after downsampling: 250.00000011820984\n"
     ]
    },
    {
     "name": "stderr",
     "output_type": "stream",
     "text": [
      " 50%|█████     | 4/8 [00:09<00:09,  2.44s/it]"
     ]
    },
    {
     "name": "stdout",
     "output_type": "stream",
     "text": [
      "Slice myo_timestamps and all data from 0 to 44456\n",
      "Fs before downsampling: 500.0000008581031\n",
      "Fs after downsampling: 250.00000002145305\n"
     ]
    },
    {
     "name": "stderr",
     "output_type": "stream",
     "text": [
      " 62%|██████▎   | 5/8 [00:12<00:07,  2.44s/it]"
     ]
    },
    {
     "name": "stdout",
     "output_type": "stream",
     "text": [
      "Slice myo_timestamps and all data from 0 to 44471\n",
      "Fs before downsampling: 499.9999996783199\n",
      "Fs after downsampling: 249.99999983915995\n"
     ]
    },
    {
     "name": "stderr",
     "output_type": "stream",
     "text": [
      " 75%|███████▌  | 6/8 [00:14<00:04,  2.45s/it]"
     ]
    },
    {
     "name": "stdout",
     "output_type": "stream",
     "text": [
      "Slice myo_timestamps and all data from 0 to 44465\n",
      "Fs before downsampling: 500.0000001501376\n",
      "Fs after downsampling: 250.0000000750688\n"
     ]
    },
    {
     "name": "stderr",
     "output_type": "stream",
     "text": [
      " 88%|████████▊ | 7/8 [00:17<00:02,  2.45s/it]"
     ]
    },
    {
     "name": "stdout",
     "output_type": "stream",
     "text": [
      "Slice myo_timestamps and all data from 0 to 44463\n",
      "Fs before downsampling: 499.99999986058015\n",
      "Fs after downsampling: 249.99999993029007\n"
     ]
    },
    {
     "name": "stderr",
     "output_type": "stream",
     "text": [
      "100%|██████████| 8/8 [00:19<00:00,  2.44s/it]\n"
     ]
    },
    {
     "name": "stdout",
     "output_type": "stream",
     "text": [
      "Total len: 687\n"
     ]
    },
    {
     "name": "stderr",
     "output_type": "stream",
     "text": [
      "100%|██████████| 8/8 [01:18<00:00,  9.85s/it]\n"
     ]
    }
   ],
   "source": [
    "ROOT_DIR = Path(\"D:\\\\study\\\\myo\\\\emg-virtual\\\\data\\\\Alexander Chevcov\\\\Raw\\\\\")\n",
    "DATASET_NAMES = [\"\"]\n",
    "dataset_paths = [ROOT_DIR / Path(n) for n in DATASET_NAMES]\n",
    "\n",
    "ALL_PATHS = []\n",
    "for dp in dataset_paths:\n",
    "    ALL_PATHS.extend(get_subdirs(dp))\n",
    "\n",
    "print(\"ALL_PATHS: \", ALL_PATHS)\n",
    "print(\"Number of paths: \", len(ALL_PATHS))\n",
    "\n",
    "for path in ALL_PATHS:\n",
    "    print(path)\n",
    "    sorted_pth = sorted(path.glob(\"*.npz\"))\n",
    "    sorted_pth = natsorted(sorted_pth)\n",
    "\n",
    "    dataset = data_utils.create_dataset(\n",
    "        data_folder=path,\n",
    "        original_fps=config.original_fps,\n",
    "        delay_ms=config.delay_ms,\n",
    "        start_crop_ms=config.start_crop_ms,\n",
    "        window_size=config.window_size,\n",
    "        random_sampling=False,\n",
    "        transform=None,\n",
    "    )\n",
    "\n",
    "    n_channels = 6\n",
    "    for idx, exp_data in enumerate(tqdm(dataset.exps_data)):\n",
    "        # select informative EMG channels\n",
    "        exp_data[\"data_myo\"] = exp_data[\"data_myo\"][:, :n_channels]\n",
    "\n",
    "        # convert vr to angles\n",
    "        exp_data[\"data_angles\"] = get_angles(exp_data[\"data_vr\"])\n",
    "\n",
    "        # save\n",
    "        np.savez(\n",
    "            f\"D:\\\\study\\\\myo\\\\emg-virtual\\\\data\\\\Alexander Chevcov\\\\Preprocessed\\\\{path.parent.name}_{path.name}_{idx:04d}.npz\",\n",
    "            **exp_data,\n",
    "        )"
   ]
  },
  {
   "cell_type": "markdown",
   "id": "e3840ff7",
   "metadata": {},
   "source": [
    "Amputee. Peter"
   ]
  },
  {
   "cell_type": "code",
   "execution_count": 8,
   "id": "4482c55d",
   "metadata": {},
   "outputs": [
    {
     "name": "stdout",
     "output_type": "stream",
     "text": [
      "ALL_PATHS:  [WindowsPath('D:/study/myo/emg-virtual/data/Peter/Raw/Simple1')]\n",
      "Number of paths:  1\n",
      "D:\\study\\myo\\emg-virtual\\data\\Peter\\Raw\\Simple1\n",
      "Number of moves: 8 | Dataset: Peter\n"
     ]
    },
    {
     "name": "stderr",
     "output_type": "stream",
     "text": [
      "  0%|          | 0/8 [00:00<?, ?it/s]"
     ]
    },
    {
     "name": "stdout",
     "output_type": "stream",
     "text": [
      "Slice myo_timestamps and all data from 0 to 43508\n",
      "Fs before downsampling: 489.50269963974864\n",
      "Fs after downsampling: 244.75123196814639\n"
     ]
    },
    {
     "name": "stderr",
     "output_type": "stream",
     "text": [
      " 12%|█▎        | 1/8 [00:02<00:16,  2.37s/it]"
     ]
    },
    {
     "name": "stdout",
     "output_type": "stream",
     "text": [
      "Slice myo_timestamps and all data from 0 to 44486\n",
      "Fs before downsampling: 500.0000011790961\n",
      "Fs after downsampling: 250.00000018222804\n"
     ]
    },
    {
     "name": "stderr",
     "output_type": "stream",
     "text": [
      " 25%|██▌       | 2/8 [00:04<00:14,  2.40s/it]"
     ]
    },
    {
     "name": "stdout",
     "output_type": "stream",
     "text": [
      "Slice myo_timestamps and all data from 0 to 44478\n",
      "Fs before downsampling: 500.0000000214419\n",
      "Fs after downsampling: 250.0000002733912\n"
     ]
    },
    {
     "name": "stderr",
     "output_type": "stream",
     "text": [
      " 38%|███▊      | 3/8 [00:07<00:12,  2.42s/it]"
     ]
    },
    {
     "name": "stdout",
     "output_type": "stream",
     "text": [
      "Slice myo_timestamps and all data from 0 to 44456\n",
      "Fs before downsampling: 499.99999951731695\n",
      "Fs after downsampling: 250.00000002145305\n"
     ]
    },
    {
     "name": "stderr",
     "output_type": "stream",
     "text": [
      " 50%|█████     | 4/8 [00:09<00:09,  2.43s/it]"
     ]
    },
    {
     "name": "stdout",
     "output_type": "stream",
     "text": [
      "Slice myo_timestamps and all data from 0 to 44440\n",
      "Fs before downsampling: 499.99999988196834\n",
      "Fs after downsampling: 250.00000020387745\n"
     ]
    },
    {
     "name": "stderr",
     "output_type": "stream",
     "text": [
      " 62%|██████▎   | 5/8 [00:12<00:07,  2.41s/it]"
     ]
    },
    {
     "name": "stdout",
     "output_type": "stream",
     "text": [
      "Slice myo_timestamps and all data from 0 to 44464\n",
      "Fs before downsampling: 499.9999993350898\n",
      "Fs after downsampling: 249.99999993029007\n"
     ]
    },
    {
     "name": "stderr",
     "output_type": "stream",
     "text": [
      " 75%|███████▌  | 6/8 [00:14<00:04,  2.44s/it]"
     ]
    },
    {
     "name": "stdout",
     "output_type": "stream",
     "text": [
      "Slice myo_timestamps and all data from 0 to 44404\n",
      "Fs before downsampling: 500.0000000322165\n",
      "Fs after downsampling: 250.00000027921638\n"
     ]
    },
    {
     "name": "stderr",
     "output_type": "stream",
     "text": [
      " 88%|████████▊ | 7/8 [00:16<00:02,  2.42s/it]"
     ]
    },
    {
     "name": "stdout",
     "output_type": "stream",
     "text": [
      "Slice myo_timestamps and all data from 0 to 44393\n",
      "Fs before downsampling: 500.0000004511435\n",
      "Fs after downsampling: 250.00000022557174\n"
     ]
    },
    {
     "name": "stderr",
     "output_type": "stream",
     "text": [
      "100%|██████████| 8/8 [00:19<00:00,  2.41s/it]\n"
     ]
    },
    {
     "name": "stdout",
     "output_type": "stream",
     "text": [
      "Total len: 686\n"
     ]
    },
    {
     "name": "stderr",
     "output_type": "stream",
     "text": [
      "100%|██████████| 8/8 [01:16<00:00,  9.55s/it]\n"
     ]
    }
   ],
   "source": [
    "ROOT_DIR = Path(\"D:\\\\study\\\\myo\\\\emg-virtual\\\\data\\\\Peter\\\\Raw\\\\\")\n",
    "DATASET_NAMES = [\"\"]\n",
    "dataset_paths = [ROOT_DIR / Path(n) for n in DATASET_NAMES]\n",
    "\n",
    "ALL_PATHS = []\n",
    "for dp in dataset_paths:\n",
    "    ALL_PATHS.extend(get_subdirs(dp))\n",
    "\n",
    "print(\"ALL_PATHS: \", ALL_PATHS)\n",
    "print(\"Number of paths: \", len(ALL_PATHS))\n",
    "\n",
    "for path in ALL_PATHS:\n",
    "    print(path)\n",
    "    sorted_pth = sorted(path.glob(\"*.npz\"))\n",
    "    sorted_pth = natsorted(sorted_pth)\n",
    "\n",
    "    dataset = data_utils.create_dataset(\n",
    "        data_folder=path,\n",
    "        original_fps=config.original_fps,\n",
    "        delay_ms=config.delay_ms,\n",
    "        start_crop_ms=config.start_crop_ms,\n",
    "        window_size=config.window_size,\n",
    "        random_sampling=False,\n",
    "        transform=None,\n",
    "    )\n",
    "\n",
    "    n_channels = 6\n",
    "    for idx, exp_data in enumerate(tqdm(dataset.exps_data)):\n",
    "        # select informative EMG channels\n",
    "        exp_data[\"data_myo\"] = exp_data[\"data_myo\"][:, :n_channels]\n",
    "\n",
    "        # convert vr to angles\n",
    "        exp_data[\"data_angles\"] = get_angles(exp_data[\"data_vr\"])\n",
    "\n",
    "        # save\n",
    "        np.savez(\n",
    "            f\"D:\\\\study\\\\myo\\\\emg-virtual\\\\data\\\\Peter\\\\Preprocessed\\\\{path.parent.name}_{path.name}_{idx:04d}.npz\",\n",
    "            **exp_data,\n",
    "        )"
   ]
  },
  {
   "cell_type": "markdown",
   "id": "c298d42d",
   "metadata": {},
   "source": [
    "Amputee. Alexander K"
   ]
  },
  {
   "cell_type": "code",
   "execution_count": 11,
   "id": "1af0248f",
   "metadata": {},
   "outputs": [
    {
     "name": "stdout",
     "output_type": "stream",
     "text": [
      "ALL_PATHS:  [WindowsPath('D:/study/myo/emg-virtual/data/Alexander K/Raw/Simple1')]\n",
      "Number of paths:  1\n",
      "D:\\study\\myo\\emg-virtual\\data\\Alexander K\\Raw\\Simple1\n",
      "Number of moves: 8 | Dataset: Alexander K\n"
     ]
    },
    {
     "name": "stderr",
     "output_type": "stream",
     "text": [
      "  0%|          | 0/8 [00:00<?, ?it/s]"
     ]
    },
    {
     "name": "stdout",
     "output_type": "stream",
     "text": [
      "Slice myo_timestamps and all data from 0 to 44515\n",
      "Fs before downsampling: 499.9999993465636\n",
      "Fs after downsampling: 249.9999996732818\n"
     ]
    },
    {
     "name": "stderr",
     "output_type": "stream",
     "text": [
      " 12%|█▎        | 1/8 [00:02<00:17,  2.43s/it]"
     ]
    },
    {
     "name": "stdout",
     "output_type": "stream",
     "text": [
      "Slice myo_timestamps and all data from 0 to 44448\n",
      "Fs before downsampling: 500.0000010406373\n",
      "Fs after downsampling: 250.00000011264882\n"
     ]
    },
    {
     "name": "stderr",
     "output_type": "stream",
     "text": [
      " 25%|██▌       | 2/8 [00:04<00:14,  2.44s/it]"
     ]
    },
    {
     "name": "stdout",
     "output_type": "stream",
     "text": [
      "Slice myo_timestamps and all data from 0 to 44446\n",
      "Fs before downsampling: 499.99999940992143\n",
      "Fs after downsampling: 249.99999996781318\n"
     ]
    },
    {
     "name": "stderr",
     "output_type": "stream",
     "text": [
      " 38%|███▊      | 3/8 [00:07<00:12,  2.45s/it]"
     ]
    },
    {
     "name": "stdout",
     "output_type": "stream",
     "text": [
      "Slice myo_timestamps and all data from 0 to 44456\n",
      "Fs before downsampling: 500.0000008581031\n",
      "Fs after downsampling: 250.00000002145305\n"
     ]
    },
    {
     "name": "stderr",
     "output_type": "stream",
     "text": [
      " 50%|█████     | 4/8 [00:09<00:09,  2.45s/it]"
     ]
    },
    {
     "name": "stdout",
     "output_type": "stream",
     "text": [
      "Slice myo_timestamps and all data from 0 to 44500\n",
      "Fs before downsampling: 499.99999918560815\n",
      "Fs after downsampling: 249.99999985533506\n"
     ]
    },
    {
     "name": "stderr",
     "output_type": "stream",
     "text": [
      " 62%|██████▎   | 5/8 [00:12<00:07,  2.45s/it]"
     ]
    },
    {
     "name": "stdout",
     "output_type": "stream",
     "text": [
      "Slice myo_timestamps and all data from 0 to 44494\n",
      "Fs before downsampling: 500.00000099669285\n",
      "Fs after downsampling: 250.00000009109763\n"
     ]
    },
    {
     "name": "stderr",
     "output_type": "stream",
     "text": [
      " 75%|███████▌  | 6/8 [00:14<00:04,  2.45s/it]"
     ]
    },
    {
     "name": "stdout",
     "output_type": "stream",
     "text": [
      "Slice myo_timestamps and all data from 0 to 44406\n",
      "Fs before downsampling: 500.00000032215104\n",
      "Fs after downsampling: 249.99999975301202\n"
     ]
    },
    {
     "name": "stderr",
     "output_type": "stream",
     "text": [
      " 88%|████████▊ | 7/8 [00:17<00:02,  2.45s/it]"
     ]
    },
    {
     "name": "stdout",
     "output_type": "stream",
     "text": [
      "Slice myo_timestamps and all data from 0 to 44480\n",
      "Fs before downsampling: 500.0000003108945\n",
      "Fs after downsampling: 249.99999974806258\n"
     ]
    },
    {
     "name": "stderr",
     "output_type": "stream",
     "text": [
      "100%|██████████| 8/8 [00:19<00:00,  2.45s/it]\n"
     ]
    },
    {
     "name": "stdout",
     "output_type": "stream",
     "text": [
      "Total len: 688\n"
     ]
    },
    {
     "name": "stderr",
     "output_type": "stream",
     "text": [
      "100%|██████████| 8/8 [01:19<00:00,  9.99s/it]\n"
     ]
    }
   ],
   "source": [
    "ROOT_DIR = Path(\"D:\\\\study\\\\myo\\\\emg-virtual\\\\data\\\\Alexander K\\\\Raw\\\\\")\n",
    "DATASET_NAMES = [\"\"]\n",
    "dataset_paths = [ROOT_DIR / Path(n) for n in DATASET_NAMES]\n",
    "\n",
    "ALL_PATHS = []\n",
    "for dp in dataset_paths:\n",
    "    ALL_PATHS.extend(get_subdirs(dp))\n",
    "\n",
    "print(\"ALL_PATHS: \", ALL_PATHS)\n",
    "print(\"Number of paths: \", len(ALL_PATHS))\n",
    "\n",
    "for path in ALL_PATHS:\n",
    "    print(path)\n",
    "    sorted_pth = sorted(path.glob(\"*.npz\"))\n",
    "    sorted_pth = natsorted(sorted_pth)\n",
    "\n",
    "    dataset = data_utils.create_dataset(\n",
    "        data_folder=path,\n",
    "        original_fps=config.original_fps,\n",
    "        delay_ms=config.delay_ms,\n",
    "        start_crop_ms=config.start_crop_ms,\n",
    "        window_size=config.window_size,\n",
    "        random_sampling=False,\n",
    "        transform=None,\n",
    "    )\n",
    "\n",
    "    n_channels = 6\n",
    "    for idx, exp_data in enumerate(tqdm(dataset.exps_data)):\n",
    "        # select informative EMG channels\n",
    "        exp_data[\"data_myo\"] = exp_data[\"data_myo\"][:, :n_channels]\n",
    "\n",
    "        # convert vr to angles\n",
    "        exp_data[\"data_angles\"] = get_angles(exp_data[\"data_vr\"])\n",
    "\n",
    "        # save\n",
    "        np.savez(\n",
    "            f\"D:\\\\study\\\\myo\\\\emg-virtual\\\\data\\\\Alexander K\\\\Preprocessed\\\\{path.parent.name}_{path.name}_{idx:04d}.npz\",\n",
    "            **exp_data,\n",
    "        )"
   ]
  },
  {
   "cell_type": "code",
   "execution_count": 10,
   "id": "b2fe1422",
   "metadata": {},
   "outputs": [
    {
     "data": {
      "text/plain": [
       "[WindowsPath('D:/study/myo/emg-virtual/data/Alexander K/Raw/Simple1')]"
      ]
     },
     "execution_count": 10,
     "metadata": {},
     "output_type": "execute_result"
    }
   ],
   "source": [
    "ROOT_DIR = Path(\"D:\\\\study\\\\myo\\\\emg-virtual\\\\data\\\\Alexander K\\\\Raw\\\\\")\n",
    "DATASET_NAMES = [\"\"]\n",
    "dataset_paths = [ROOT_DIR / Path(n) for n in DATASET_NAMES]\n",
    "\n",
    "ALL_PATHS = []\n",
    "for dp in dataset_paths:\n",
    "    ALL_PATHS.extend(get_subdirs(dp))\n",
    "\n",
    "ALL_PATHS"
   ]
  },
  {
   "cell_type": "code",
   "execution_count": null,
   "id": "66b60282",
   "metadata": {},
   "outputs": [],
   "source": []
  },
  {
   "cell_type": "code",
   "execution_count": null,
   "id": "280fa978",
   "metadata": {},
   "outputs": [],
   "source": []
  },
  {
   "cell_type": "code",
   "execution_count": 16,
   "id": "3fc2cfad",
   "metadata": {},
   "outputs": [],
   "source": [
    "n_channels = 6\n",
    "\n",
    "idx = 0\n",
    "exp_data = dataset.exps_data[idx].copy()\n",
    "\n",
    "# select informative EMG channels\n",
    "exp_data[\"data_myo\"] = exp_data[\"data_myo\"][:, :n_channels]\n",
    "\n",
    "# convert vr to angles\n",
    "exp_data[\"data_angles\"] = get_angles(exp_data[\"data_vr\"])"
   ]
  },
  {
   "cell_type": "code",
   "execution_count": null,
   "id": "4bdb45ae",
   "metadata": {},
   "outputs": [],
   "source": [
    "n_channels = 6\n",
    "\n",
    "for idx, exp_data in enumerate(dataset.exps_data):\n",
    "    # select informative EMG channels\n",
    "    exp_data[\"data_myo\"] = exp_data[\"data_myo\"][:, :n_channels]\n",
    "\n",
    "    # convert vr to angles\n",
    "    exp_data[\"data_angles\"] = get_angles(exp_data[\"data_vr\"])\n",
    "\n",
    "    # save\n",
    "    np.savez(\n",
    "        f\"D:\\\\study\\\\myo\\\\emg-virtual\\\\data\\\\Fedor\\\\Preprocessed\\\\1\\\\{idx:04d}.npz\",\n",
    "        **exp_data,\n",
    "    )"
   ]
  },
  {
   "cell_type": "code",
   "execution_count": 13,
   "id": "f5fd8865",
   "metadata": {},
   "outputs": [
    {
     "data": {
      "text/plain": [
       "'0001.npz'"
      ]
     },
     "execution_count": 13,
     "metadata": {},
     "output_type": "execute_result"
    }
   ],
   "source": [
    "f\"{1:04d}.npz\""
   ]
  },
  {
   "cell_type": "code",
   "execution_count": null,
   "id": "99ca0404",
   "metadata": {},
   "outputs": [
    {
     "name": "stdout",
     "output_type": "stream",
     "text": [
      "CPU times: total: 15.6 ms\n",
      "Wall time: 14.5 ms\n"
     ]
    }
   ],
   "source": [
    "%%time\n",
    "np.savez(f'D:\\\\study\\\\myo\\\\emg-virtual\\\\data\\\\Fedor\\\\Preprocessed\\\\1\\\\{idx:04d}.npz', **exp_data)"
   ]
  },
  {
   "cell_type": "code",
   "execution_count": null,
   "id": "f13a94d7",
   "metadata": {},
   "outputs": [],
   "source": [
    "loaded = np.load(\"my_data.npz\")"
   ]
  },
  {
   "cell_type": "code",
   "execution_count": 32,
   "id": "f7a89ee0",
   "metadata": {},
   "outputs": [
    {
     "name": "stdout",
     "output_type": "stream",
     "text": [
      "CPU times: total: 312 ms\n",
      "Wall time: 306 ms\n"
     ]
    }
   ],
   "source": [
    "%%time\n",
    "np.savez_compressed('my_data_compressed.npz', **exp_data)"
   ]
  },
  {
   "cell_type": "code",
   "execution_count": 27,
   "id": "c591b9b2",
   "metadata": {},
   "outputs": [
    {
     "name": "stdout",
     "output_type": "stream",
     "text": [
      "CPU times: total: 15.6 ms\n",
      "Wall time: 9.2 ms\n"
     ]
    }
   ],
   "source": [
    "%%time\n",
    "with open('my_dict.pkl', 'wb') as f:\n",
    "    pickle.dump(exp_data, f)"
   ]
  },
  {
   "cell_type": "code",
   "execution_count": null,
   "id": "5387bb6e",
   "metadata": {},
   "outputs": [],
   "source": [
    "np.savez(\n",
    "    filepath, data_myo=myo, data_vr=vr, data_angles=angles, myo_ts=ts, std_coef=std_coef\n",
    ")"
   ]
  },
  {
   "cell_type": "code",
   "execution_count": 20,
   "id": "d1c1dc63",
   "metadata": {},
   "outputs": [
    {
     "data": {
      "text/plain": [
       "dict_keys(['data_myo', 'myo_ts', 'data_vr', 'vr_ts', 'data_angles'])"
      ]
     },
     "execution_count": 20,
     "metadata": {},
     "output_type": "execute_result"
    }
   ],
   "source": [
    "exp_data.keys()"
   ]
  },
  {
   "cell_type": "code",
   "execution_count": 8,
   "id": "e6d0134f",
   "metadata": {},
   "outputs": [
    {
     "data": {
      "text/plain": [
       "(22226,)"
      ]
     },
     "execution_count": 8,
     "metadata": {},
     "output_type": "execute_result"
    }
   ],
   "source": [
    "exp_data[\"data_myo\"].shape"
   ]
  },
  {
   "cell_type": "code",
   "execution_count": null,
   "id": "2f522628",
   "metadata": {},
   "outputs": [
    {
     "data": {
      "text/plain": [
       "((22226, 8), (22226, 8))"
      ]
     },
     "execution_count": 86,
     "metadata": {},
     "output_type": "execute_result"
    }
   ],
   "source": [
    "sorted_pth = sorted(path.glob(\"*.npz\"))\n",
    "sorted_pth = natsorted(sorted_pth)\n",
    "\n",
    "idx = 0\n",
    "move = dataset.exps_data[idx]\n",
    "my_data = np.load(sorted_pth[idx])\n",
    "my_myo = np.load(sorted_pth[idx])[\"data_myo\"]\n",
    "\n",
    "my_myo_clipv1 = my_myo[: len(move[\"data_myo\"])]\n",
    "my_myo_clipv1.shape\n",
    "\n",
    "my_myo = my_myo[::2]\n",
    "my_myo_clipv2 = my_myo[: len(move[\"data_myo\"])]\n",
    "\n",
    "my_myo_clipv1.shape, my_myo_clipv2.shape"
   ]
  },
  {
   "cell_type": "code",
   "execution_count": 87,
   "id": "0ad368a7",
   "metadata": {},
   "outputs": [
    {
     "data": {
      "text/plain": [
       "4"
      ]
     },
     "execution_count": 87,
     "metadata": {},
     "output_type": "execute_result"
    }
   ],
   "source": [
    "len(dataset.exps_data)"
   ]
  },
  {
   "cell_type": "code",
   "execution_count": 76,
   "id": "c4c78d8c",
   "metadata": {},
   "outputs": [
    {
     "data": {
      "text/plain": [
       "500.0000002789086"
      ]
     },
     "execution_count": 76,
     "metadata": {},
     "output_type": "execute_result"
    }
   ],
   "source": [
    "my_data, _, _ = data_utils.strip_nans_for_one_exp(my_data)\n",
    "1 / np.mean(np.diff(my_data[\"myo_ts\"]))"
   ]
  },
  {
   "cell_type": "code",
   "execution_count": null,
   "id": "0966b9ac",
   "metadata": {},
   "outputs": [
    {
     "data": {
      "text/plain": [
       "((44452, 8), (46800, 8))"
      ]
     },
     "execution_count": 80,
     "metadata": {},
     "output_type": "execute_result"
    }
   ],
   "source": [
    "my_myo = np.load(sorted_pth[idx])[\"data_myo\"]\n",
    "my_data[\"data_myo\"].shape, my_myo.shape"
   ]
  },
  {
   "cell_type": "code",
   "execution_count": 67,
   "id": "ec7879ca",
   "metadata": {},
   "outputs": [
    {
     "data": {
      "text/plain": [
       "array([ 2.09472673e-05,  6.00585963e-06, -2.77832041e-05, ...,\n",
       "       -5.22460959e-06,  4.49218760e-06,  7.56835971e-06])"
      ]
     },
     "execution_count": 67,
     "metadata": {},
     "output_type": "execute_result"
    }
   ],
   "source": [
    "my_myo_clipv1[:, 0]"
   ]
  },
  {
   "cell_type": "code",
   "execution_count": 66,
   "id": "29b5fa9e",
   "metadata": {},
   "outputs": [
    {
     "data": {
      "text/plain": [
       "array([ 2.09472673e-05, -2.77832041e-05, -1.12304697e-05, ...,\n",
       "       -1.72851578e-05, -2.12890627e-05, -4.05273477e-06])"
      ]
     },
     "execution_count": 66,
     "metadata": {},
     "output_type": "execute_result"
    }
   ],
   "source": [
    "my_myo_clipv2[:, 0]"
   ]
  },
  {
   "cell_type": "code",
   "execution_count": 53,
   "id": "87521366",
   "metadata": {},
   "outputs": [
    {
     "data": {
      "text/plain": [
       "dict_keys(['data_myo', 'myo_ts', 'data_vr', 'vr_ts'])"
      ]
     },
     "execution_count": 53,
     "metadata": {},
     "output_type": "execute_result"
    }
   ],
   "source": [
    "move.keys()"
   ]
  },
  {
   "cell_type": "code",
   "execution_count": 54,
   "id": "4a058d0f",
   "metadata": {},
   "outputs": [],
   "source": [
    "angles_vlad = get_angles(move[\"data_vr\"])"
   ]
  },
  {
   "cell_type": "code",
   "execution_count": null,
   "id": "42c1913e",
   "metadata": {},
   "outputs": [],
   "source": [
    "# get all paths to all folders inside above datasets\n",
    "Nch_target = 6\n",
    "\n",
    "dataset_paths = [ROOT_DIR / Path(n) for n in DATASET_NAMES]\n",
    "print(dataset_paths)\n",
    "ALL_PATHS = []\n",
    "for dp in dataset_paths:\n",
    "    ALL_PATHS.extend(get_subdirs(dp))\n",
    "\n",
    "print(\"ALL_PATHS: \", ALL_PATHS)\n",
    "print(\"Number of paths: \", len(ALL_PATHS))\n",
    "\n",
    "\n",
    "# Preprocess all datasets for angles extraction.\n",
    "for path in ALL_PATHS:\n",
    "    sorted_pth = sorted(path.glob(\"*.npz\"))\n",
    "    sorted_pth = natsorted(sorted_pth)\n",
    "\n",
    "    dataset = data_utils.create_dataset(\n",
    "        data_folder=path,\n",
    "        original_fps=config.original_fps,\n",
    "        delay_ms=config.delay_ms,\n",
    "        start_crop_ms=config.start_crop_ms,\n",
    "        window_size=config.window_size,\n",
    "        random_sampling=False,\n",
    "        transform=None,\n",
    "    )\n",
    "\n",
    "    if len(dataset) == 0:\n",
    "        print(\"WWWWW: Problem with dataset\")\n",
    "        break\n",
    "\n",
    "    my_myo_list = list()\n",
    "\n",
    "    # go through each move and get angles and save.\n",
    "    for idx, move in tqdm(enumerate(dataset.exps_data)):\n",
    "\n",
    "        my_myo = np.load(sorted_pth[idx])[\"data_myo\"]\n",
    "        my_myo = my_myo[: len(move[\"data_myo\"])]\n",
    "\n",
    "        my_myo_list.append(my_myo)\n",
    "\n",
    "        std_coef = np.std(my_myo, axis=0, keepdims=True)\n",
    "        print(std_coef)\n",
    "\n",
    "    my_myo_list = np.concatenate(my_myo_list)\n",
    "    std_coef = np.std(my_myo_list, axis=0, keepdims=True)\n",
    "\n",
    "    # go through each move and get angles and save.\n",
    "    for idx, move in tqdm(enumerate(dataset.exps_data)):\n",
    "\n",
    "        my_myo = np.load(sorted_pth[idx])[\"data_myo\"]\n",
    "\n",
    "        my_myo_norm = my_myo[:, :Nch_target] / std_coef[:, :Nch_target]\n",
    "        my_myo_norm = my_myo_norm[: len(move[\"data_myo\"])]\n",
    "\n",
    "        ts, myo, vr = move[\"myo_ts\"], my_myo_norm, move[\"data_vr\"]\n",
    "        angles = get_angles(vr)\n",
    "\n",
    "        new_path = path.parents[0] / Path(\"preproc_angles\") / Path(path.name)\n",
    "        new_path.mkdir(parents=True, exist_ok=True)\n",
    "\n",
    "        filename = f\"{idx:04d}.npz\"\n",
    "        filepath = new_path / filename\n",
    "\n",
    "        np.savez(\n",
    "            filepath,\n",
    "            data_myo=myo,\n",
    "            data_vr=vr,\n",
    "            data_angles=angles,\n",
    "            myo_ts=ts,\n",
    "            std_coef=std_coef,\n",
    "        )"
   ]
  }
 ],
 "metadata": {
  "kernelspec": {
   "display_name": "pcb",
   "language": "python",
   "name": "python3"
  },
  "language_info": {
   "codemirror_mode": {
    "name": "ipython",
    "version": 3
   },
   "file_extension": ".py",
   "mimetype": "text/x-python",
   "name": "python",
   "nbconvert_exporter": "python",
   "pygments_lexer": "ipython3",
   "version": "3.9.16"
  }
 },
 "nbformat": 4,
 "nbformat_minor": 5
}
